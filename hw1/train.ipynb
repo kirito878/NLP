{
 "cells": [
  {
   "cell_type": "code",
   "execution_count": 1,
   "metadata": {},
   "outputs": [
    {
     "name": "stderr",
     "output_type": "stream",
     "text": [
      "[nltk_data] Downloading package stopwords to\n",
      "[nltk_data]     /home/wujh1123/nltk_data...\n",
      "[nltk_data]   Package stopwords is already up-to-date!\n",
      "[nltk_data] Downloading package wordnet to /home/wujh1123/nltk_data...\n",
      "[nltk_data]   Package wordnet is already up-to-date!\n"
     ]
    }
   ],
   "source": [
    "import os\n",
    "import torch\n",
    "from torch import nn\n",
    "import torchtext\n",
    "from torchtext.data import get_tokenizer\n",
    "import numpy as np\n",
    "import pandas as pd\n",
    "import json\n",
    "from torch.utils.data import Dataset , DataLoader\n",
    "\n",
    "import nltk \n",
    "nltk.download('stopwords')\n",
    "nltk.download('wordnet')\n",
    "\n",
    "from nltk.corpus import stopwords\n",
    "from nltk.tokenize import word_tokenize\n",
    "import re\n",
    "import string\n",
    "\n",
    "from nltk.stem import WordNetLemmatizer"
   ]
  },
  {
   "cell_type": "code",
   "execution_count": 2,
   "metadata": {},
   "outputs": [],
   "source": [
    "def clean_text(text):\n",
    "    '''Make text lowercase, remove text in square brackets,remove links,remove punctuation\n",
    "    and remove words containing numbers.'''\n",
    "    text = str(text).lower()\n",
    "    text = re.sub('\\[.*?\\]', '', text)\n",
    "    text = re.sub('https?://\\S+|www\\.\\S+', '', text)\n",
    "    text = re.sub('<.*?>+', '', text)\n",
    "    text = re.sub('[%s]' % re.escape(string.punctuation), '', text)\n",
    "    text = re.sub('\\n', '', text)\n",
    "    text = re.sub('\\w*\\d\\w*', '', text)\n",
    "    return text"
   ]
  },
  {
   "cell_type": "code",
   "execution_count": 3,
   "metadata": {},
   "outputs": [],
   "source": [
    "def remove_emoji(text):\n",
    "    emoji_pattern = re.compile(\"[\"\n",
    "                           u\"\\U0001F600-\\U0001F64F\"  # emoticons\n",
    "                           u\"\\U0001F300-\\U0001F5FF\"  # symbols & pictographs\n",
    "                           u\"\\U0001F680-\\U0001F6FF\"  # transport & map symbols\n",
    "                           u\"\\U0001F1E0-\\U0001F1FF\"  # flags (iOS)\n",
    "                           u\"\\U00002702-\\U000027B0\"\n",
    "                           u\"\\U000024C2-\\U0001F251\"\n",
    "                           \"]+\", flags=re.UNICODE)\n",
    "    return emoji_pattern.sub(r'', text)"
   ]
  },
  {
   "cell_type": "code",
   "execution_count": 4,
   "metadata": {},
   "outputs": [],
   "source": [
    "stop_words = stopwords.words('english')\n",
    "def remove_stopwords(text):\n",
    "    text = ' '.join(word for word in text.split(' ') if word not in stop_words)\n",
    "    return text"
   ]
  },
  {
   "cell_type": "code",
   "execution_count": 5,
   "metadata": {},
   "outputs": [],
   "source": [
    "lemmatizer = WordNetLemmatizer()\n",
    "def lem_text(text):\n",
    "    text = ' '.join(lemmatizer.lemmatize(word) for word in text.split(' '))\n",
    "    return text"
   ]
  },
  {
   "cell_type": "code",
   "execution_count": 6,
   "metadata": {},
   "outputs": [],
   "source": [
    "def preprocess(text):\n",
    "    text = clean_text(text)\n",
    "    text = remove_emoji(text)\n",
    "    text = remove_stopwords(text)\n",
    "    text = lem_text(text)\n",
    "    text = text.split()\n",
    "    return text"
   ]
  },
  {
   "cell_type": "code",
   "execution_count": 7,
   "metadata": {},
   "outputs": [
    {
     "name": "stdout",
     "output_type": "stream",
     "text": [
      "['idea', 'cant', 'control', 'flu', 'vaccine', 'make', 'think', 'control', 'covid', 'flu', 'seems', 'variant', 'covid', 'infectious', 'disease', 'including', 'ebola']\n"
     ]
    }
   ],
   "source": [
    "s = \"@sandraburgess3 They have no idea, they cant control the Flu with vaccine so what makes them think they can control covid 19 because all flu seems to have a variant of covid in it as do most infectious diseases including Ebola!!!!\"\n",
    "t = preprocess(s)\n",
    "print(t)"
   ]
  },
  {
   "cell_type": "code",
   "execution_count": 8,
   "metadata": {},
   "outputs": [],
   "source": [
    "def load_data(path):\n",
    "    with open(path,'r',encoding='utf-8') as file:\n",
    "        data = json.load(file)\n",
    "    # print(len(train_data))\n",
    "    return data"
   ]
  },
  {
   "cell_type": "code",
   "execution_count": 9,
   "metadata": {},
   "outputs": [
    {
     "name": "stdout",
     "output_type": "stream",
     "text": [
      "cant control the Flu\n",
      "infectious diseases\n"
     ]
    }
   ],
   "source": [
    "train_data =load_data(\"train.json\")\n",
    "sent_arr = set(preprocess(train_data[0]['tweet']))\n",
    "for key,value in train_data[0]['labels'].items():\n",
    "    for i in value:\n",
    "        print(i['terms'])\n",
    "   "
   ]
  },
  {
   "cell_type": "code",
   "execution_count": 10,
   "metadata": {},
   "outputs": [],
   "source": [
    "# train_data =load_data(\"train.json\")\n",
    "# words = set()\n",
    "# for i in train_data:\n",
    "#     for k,v in i['labels'].items():\n",
    "#         sent_arr = set(preprocess(i['tweet']))\n",
    "#         if len(sent_arr) == 0:\n",
    "#             print(i['tweet'])\n",
    "#             train_data.remove(i)\n",
    "#             continue        \n",
    "#         for j in v:\n",
    "#             sent_arr = set(preprocess(j['terms']))\n",
    "#             words = words | sent_arr\n",
    "\n",
    "\n",
    "\n",
    "\n",
    "# words = [\"\",\"UNK\"]+list(words)\n",
    "# print(len(words))"
   ]
  },
  {
   "cell_type": "code",
   "execution_count": 11,
   "metadata": {},
   "outputs": [
    {
     "name": "stdout",
     "output_type": "stream",
     "text": [
      "[The Oxford-AstraZeneca vaccine also seems to produce relatively high rates of adverse events. If you want to dig further into this vaccine’s story and issues, I’ve laid out a more detailed rundown of the Oxford-AstraZeneca trials and sources here.] https://t.co/youZFn8KUr\n",
      "17463\n"
     ]
    }
   ],
   "source": [
    "# import spacy\n",
    "# nlp = spacy.load('en_core_web_sm')\n",
    "# tokenizer = get_tokenizer('spacy')\n",
    "train_data =load_data(\"train.json\")\n",
    "words = set()\n",
    "for i in train_data:\n",
    "    sent_arr = set(preprocess(i['tweet']))\n",
    "    if len(sent_arr) == 0:\n",
    "        print(i['tweet'])\n",
    "        train_data.remove(i)\n",
    "        continue\n",
    "    words = words | sent_arr\n",
    "\n",
    "\n",
    "\n",
    "words = [\"\",\"UNK\"]+list(words)\n",
    "print(len(words))"
   ]
  },
  {
   "cell_type": "code",
   "execution_count": 12,
   "metadata": {},
   "outputs": [],
   "source": [
    "# from collections import Counter\n",
    "# train_data =load_data(\"train.json\")\n",
    "# counts = Counter()\n",
    "# for i in train_data:\n",
    "#     sent_arr = (preprocess(i['tweet']))\n",
    "#     if len(sent_arr) == 0:\n",
    "#         print(i['tweet'])\n",
    "#         train_data.remove(i)\n",
    "#     counts.update(sent_arr)\n",
    "\n",
    "\n",
    "# print(\"num_words before:\",len(counts.keys()))\n",
    "# for word in list(counts):\n",
    "#     if counts[word] < 2:\n",
    "#         del counts[word]\n",
    "# print(\"num_words after:\",len(counts.keys()))\n",
    "# words = [\"\", \"UNK\"]\n",
    "# for word in counts:\n",
    "#     words.append(word)"
   ]
  },
  {
   "cell_type": "code",
   "execution_count": 13,
   "metadata": {},
   "outputs": [],
   "source": [
    "# from collections import Counter\n",
    "# train_data =load_data(\"train.json\")\n",
    "\n",
    "# counts = Counter()\n",
    "# for i in train_data:\n",
    "#     for k,v in i['labels'].items():\n",
    "#         sent_arr = set(preprocess(i['tweet']))\n",
    "#         if len(sent_arr) == 0:\n",
    "#             print(i['tweet'])\n",
    "#             train_data.remove(i)\n",
    "#             continue        \n",
    "#         for j in v:\n",
    "#             sent_arr = set(preprocess(j['terms']))\n",
    "#             counts.update(sent_arr)\n",
    "\n",
    "\n",
    "\n",
    "\n",
    "# print(\"num_words before:\",len(counts.keys()))\n",
    "# for word in list(counts):\n",
    "#     if counts[word] < 2:\n",
    "#         del counts[word]\n",
    "# print(\"num_words after:\",len(counts.keys()))\n",
    "# words = [\"\", \"UNK\"]\n",
    "# for word in counts:\n",
    "#     words.append(word)"
   ]
  },
  {
   "cell_type": "code",
   "execution_count": 14,
   "metadata": {},
   "outputs": [],
   "source": [
    "tag_list=[\"ineffective\",\"unnecessary\",\"pharma\",\"rushed\",\"side-effect\",\"mandatory\",\"country\",\"ingredients\",\"political\",\"none\",\"conspiracy\",\"religious\"]\n",
    "tag_to_idx={}\n",
    "for i in range(len(tag_list)):\n",
    "    tag_to_idx[tag_list[i]]=i"
   ]
  },
  {
   "cell_type": "code",
   "execution_count": 15,
   "metadata": {},
   "outputs": [
    {
     "name": "stdout",
     "output_type": "stream",
     "text": [
      "<class 'dict'>\n",
      "{'ineffective': [{'index': 0, 'start': 6, 'end': 10, 'terms': 'cant control the Flu'}, {'index': 1, 'start': 37, 'end': 39, 'terms': 'infectious diseases'}]}\n",
      "['ineffective']\n",
      "4 side-effect\n"
     ]
    }
   ],
   "source": [
    "print(type(train_data[0]['labels']))\n",
    "print(train_data[0]['labels'])\n",
    "print(list(train_data[0]['labels'].keys()))\n",
    "for i in list(train_data[77]['labels'].keys()):\n",
    "    print(tag_to_idx[i],i)"
   ]
  },
  {
   "cell_type": "code",
   "execution_count": 16,
   "metadata": {},
   "outputs": [
    {
     "data": {
      "text/plain": [
       "17463"
      ]
     },
     "execution_count": 16,
     "metadata": {},
     "output_type": "execute_result"
    }
   ],
   "source": [
    "vocab2idx = {k:v for v,k in enumerate(words)}\n",
    "vocab_size = len(words)\n",
    "vocab_size"
   ]
  },
  {
   "cell_type": "code",
   "execution_count": 17,
   "metadata": {},
   "outputs": [],
   "source": [
    "def load_glove_vectors(glove_file=\"glove.42B.300d.txt\"):\n",
    "    word_vectors = {}\n",
    "    with open(glove_file) as f:\n",
    "        for line in f :\n",
    "            s = line.split(' ')\n",
    "            word_vectors[s[0]] = np.array([float(x) for x in s[1:]])\n",
    "    return word_vectors"
   ]
  },
  {
   "cell_type": "code",
   "execution_count": 18,
   "metadata": {},
   "outputs": [],
   "source": [
    "def get_emb_matrix(pretained,words,emb_size=300):\n",
    "    W = np.zeros((len(words),emb_size),dtype=\"float32\")\n",
    "    W[0] = np.zeros(emb_size,dtype=\"float32\")\n",
    "    W[1] = np.random.uniform(-0.25,0.25,emb_size)\n",
    "    i = 2\n",
    "    count = 0 \n",
    "    for word in words[2:]:\n",
    "        if word in pretained:\n",
    "            W[i] = pretained[word]\n",
    "            count +=1\n",
    "        else:\n",
    "            W[i] =  np.random.uniform(-0.25,0.25,emb_size)\n",
    "        i+=1\n",
    "    rate = count/len(words)\n",
    "    print(\"coverage rate: \" ,round(rate, 4))\n",
    "    return W"
   ]
  },
  {
   "cell_type": "code",
   "execution_count": 19,
   "metadata": {},
   "outputs": [
    {
     "name": "stdout",
     "output_type": "stream",
     "text": [
      "coverage rate:  0.6125\n"
     ]
    }
   ],
   "source": [
    "import joblib\n",
    "word_vecs = load_glove_vectors()\n",
    "pretrain_weights = get_emb_matrix(word_vecs,words,300)\n",
    "# joblib.dump(pretrain_weights, 'pretrain.pkl')"
   ]
  },
  {
   "cell_type": "code",
   "execution_count": 20,
   "metadata": {},
   "outputs": [],
   "source": [
    "\n",
    "\n",
    "class CustomDataset(Dataset):\n",
    "    def __init__(self,data, tokenizer,max_length,words):\n",
    "        self.data = data \n",
    "        self.tokenizer = tokenizer\n",
    "        self.max_length = max_length\n",
    "        self.words = words\n",
    "\n",
    "    def __len__(self):\n",
    "        return len(self.data)\n",
    "    def __getitem__(self, index) :\n",
    "        tweet = self.data[index][\"tweet\"]\n",
    "        labels = self.data[index][\"labels\"]\n",
    "        encode_text = self.encode(tweet,self.words)\n",
    "        encode_label = self.label_encoded(labels)\n",
    "        seq_len = np.count_nonzero(encode_text)\n",
    "        # seq_len = len(encode_text)\n",
    "        return encode_text , encode_label , seq_len\n",
    "    def encode(self,text,vocab2idx):\n",
    "        token = self.tokenizer(text)\n",
    "        encoded = np.zeros(self.max_length,dtype=int)\n",
    "        enc1 = np.array([vocab2idx.get(word,vocab2idx[\"UNK\"]) for word in token] )\n",
    "        # print(enc1.shape)\n",
    "        length = min(self.max_length,len(enc1))\n",
    "        encoded[:length] = enc1[:length]\n",
    "        \n",
    "        return encoded \n",
    "    def label_encoded(self,labels):\n",
    "        encode_label = np.zeros(12,dtype=int)\n",
    "        list_label = list(labels.keys())\n",
    "        for i in list_label:\n",
    "            idx = tag_to_idx[i]\n",
    "            encode_label[idx] = 1\n",
    "        # encode_label = torch.LongTensor(encode_label)\n",
    "        return encode_label "
   ]
  },
  {
   "cell_type": "code",
   "execution_count": 21,
   "metadata": {},
   "outputs": [],
   "source": [
    "max_length = 300\n",
    "train_data = CustomDataset(train_data,preprocess,max_length,vocab2idx)\n",
    "train_loader = DataLoader(train_data,batch_size=32)\n"
   ]
  },
  {
   "cell_type": "code",
   "execution_count": 22,
   "metadata": {},
   "outputs": [
    {
     "name": "stdout",
     "output_type": "stream",
     "text": [
      "Now is using cuda device\n"
     ]
    }
   ],
   "source": [
    "device = \"cuda\" if torch.cuda.is_available() else \"cpu\"\n",
    "print(f\"Now is using {device} device\")"
   ]
  },
  {
   "cell_type": "code",
   "execution_count": 23,
   "metadata": {},
   "outputs": [],
   "source": [
    "from torch.nn.utils.rnn import pack_padded_sequence ,pad_packed_sequence"
   ]
  },
  {
   "cell_type": "code",
   "execution_count": 24,
   "metadata": {},
   "outputs": [],
   "source": [
    "def train(dataloader,model,loss_fn,optimizer):\n",
    "    size = len(dataloader.dataset)\n",
    "    model.train()\n",
    "    for batch , (X,y,seq) in enumerate(dataloader):\n",
    "        X,y =X.to(device),y.to(device,dtype=torch.float)\n",
    "        # print(seq)\n",
    "        pred = model(X,seq)\n",
    "        # print(pred.dtype)\n",
    "        loss = loss_fn(pred,y)\n",
    "\n",
    "\n",
    "        optimizer.zero_grad()\n",
    "        loss.backward()\n",
    "        optimizer.step()\n",
    "\n",
    "        if batch%200 ==0:\n",
    "            loss,curr = loss.item() , batch * len(X)\n",
    "            print(f\"loss: {loss:>7f} [{curr:>5d}/{size:>5d}]\")"
   ]
  },
  {
   "cell_type": "code",
   "execution_count": 25,
   "metadata": {},
   "outputs": [],
   "source": [
    "import torch.nn.functional as F\n",
    "class SpatialDropout(nn.Dropout2d):\n",
    "    def forward(self, x):\n",
    "        x = x.unsqueeze(2)    # (N, T, 1, K)\n",
    "        x = x.permute(0, 3, 2, 1)  # (N, K, 1, T)\n",
    "        x = super(SpatialDropout, self).forward(x)  # (N, K, 1, T), some features are masked\n",
    "        x = x.permute(0, 3, 2, 1)  # (N, T, 1, K)\n",
    "        x = x.squeeze(2)  # (N, T, K)\n",
    "        return x\n",
    "\n",
    "class pretrain_weight_LSTM(nn.Module):\n",
    "    def __init__(self, vocab_size, embedding_dim,hidden_dim,pretrain_weights,bidirectional) :\n",
    "        super().__init__()\n",
    "        self.hidden_dim = hidden_dim\n",
    "        self.embeddings = nn.Embedding(vocab_size,embedding_dim,padding_idx=0)\n",
    "        self.embeddings.weight.data.copy_(torch.from_numpy(pretrain_weights))\n",
    "        self.embeddings.weight.requires_grad = True \n",
    "        self.lstm = nn.LSTM(embedding_dim,hidden_dim,num_layers=1,bidirectional=bidirectional,batch_first=True)\n",
    "        self.embedding_dropout = SpatialDropout(0.3)\n",
    "        self.relu = nn.ReLU()\n",
    "        h = int(hidden_dim*3)\n",
    "        self.fc1 = nn.Linear(in_features=hidden_dim*2,out_features=h)\n",
    "        self.droupt = nn.Dropout(0.5)\n",
    "        self.fc2 = nn.Linear(h,12)\n",
    "        self.w_omega = nn.Parameter(torch.Tensor(hidden_dim*2,hidden_dim*2))\n",
    "        self.u_omega = nn.Parameter(torch.Tensor(hidden_dim*2,1))\n",
    "        self.word_bias = nn.Parameter(torch.Tensor(1, 2 * hidden_dim))\n",
    "        # nn.init.uniform_(self.w_omega,-0.1,0.1)\n",
    "        # nn.init.uniform_(self.u_omega,-0.1,0.1)\n",
    "        nn.init.xavier_uniform_(self.w_omega)\n",
    "        nn.init.xavier_uniform_(self.u_omega)\n",
    "\n",
    "    def forward(self,x,s):\n",
    "        embeed = self.embeddings(x)\n",
    "        embeed = self.embedding_dropout(embeed)\n",
    "        x_pack = pack_padded_sequence(embeed,s.to('cpu'),batch_first=True, enforce_sorted=False)\n",
    "        pack_out , (ht,ct) = self.lstm(x_pack)\n",
    "        # ht = torch.cat((ht[-2,:,:], ht[-1,:,:]), dim = 1)\n",
    "        # out = self.droupt(ht[-1])\n",
    "        x,length =pad_packed_sequence(pack_out, batch_first=True)\n",
    "        u = torch.tanh(torch.matmul(x,self.w_omega)+self.word_bias)\n",
    "        att = torch.matmul(u,self.u_omega)\n",
    "        att_score = F.softmax(att,dim=1)\n",
    "        score_x = x*att_score\n",
    "        ht = torch.sum(score_x,dim=1)\n",
    "        out = self.droupt(ht)\n",
    "        out = self.fc1(out)\n",
    "        out = self.relu(out)\n",
    "        out = self.droupt(out)\n",
    "        out = self.fc2(out)\n",
    "        return out \n",
    "    "
   ]
  },
  {
   "cell_type": "code",
   "execution_count": 26,
   "metadata": {},
   "outputs": [],
   "source": [
    "bidirectional = True\n",
    "embedding_dim = 300\n",
    "hidden_dim = 192\n",
    "model_2 = pretrain_weight_LSTM(vocab_size,embedding_dim,hidden_dim,pretrain_weights,bidirectional).to(device)"
   ]
  },
  {
   "cell_type": "code",
   "execution_count": 27,
   "metadata": {},
   "outputs": [
    {
     "data": {
      "text/plain": [
       "pretrain_weight_LSTM(\n",
       "  (embeddings): Embedding(17463, 300, padding_idx=0)\n",
       "  (lstm): LSTM(300, 192, batch_first=True, bidirectional=True)\n",
       "  (embedding_dropout): SpatialDropout(p=0.3, inplace=False)\n",
       "  (relu): ReLU()\n",
       "  (fc1): Linear(in_features=384, out_features=576, bias=True)\n",
       "  (droupt): Dropout(p=0.5, inplace=False)\n",
       "  (fc2): Linear(in_features=576, out_features=12, bias=True)\n",
       ")"
      ]
     },
     "execution_count": 27,
     "metadata": {},
     "output_type": "execute_result"
    }
   ],
   "source": [
    "from torchsummary import summary\n",
    "model_2"
   ]
  },
  {
   "cell_type": "code",
   "execution_count": 28,
   "metadata": {},
   "outputs": [],
   "source": [
    "loss_fn = nn.BCEWithLogitsLoss()\n",
    "optimizer = torch.optim.Adam(model_2.parameters(),lr=1e-3)"
   ]
  },
  {
   "cell_type": "code",
   "execution_count": 29,
   "metadata": {},
   "outputs": [],
   "source": [
    "from sklearn.metrics import f1_score"
   ]
  },
  {
   "cell_type": "code",
   "execution_count": 30,
   "metadata": {},
   "outputs": [],
   "source": [
    "def evalute(dataloader,model,loss_fn):\n",
    "    model.eval()\n",
    "    y_pred = []\n",
    "    y_target = []\n",
    "    with torch.no_grad():\n",
    "        for X,y,seq in dataloader:\n",
    "            X,y = X.to(device) , y.to(device,dtype=torch.float)\n",
    "            pred = model(X,seq)\n",
    "            y_pred.extend(torch.sigmoid(pred).cpu().detach().numpy().tolist())\n",
    "            y_target.extend(y.cpu().detach().numpy().tolist())\n",
    "    y_preds = (np.array(y_pred)>0.5).astype(int)\n",
    "    marco_f1= f1_score(y_target,y_preds,average='macro')\n",
    "    print(\"marco f1 score : \",marco_f1)\n",
    "    return marco_f1"
   ]
  },
  {
   "cell_type": "code",
   "execution_count": 31,
   "metadata": {},
   "outputs": [
    {
     "name": "stdout",
     "output_type": "stream",
     "text": [
      "{'ID': '1397651228679675907', 'tweet': '      ', 'labels': {'none': [{'index': 0, 'start': 0, 'end': 1, 'terms': '@HHSGov'}]}}\n"
     ]
    }
   ],
   "source": [
    "val_data =load_data('val.json')\n",
    "for i in val_data:\n",
    "    sent_arr = set(preprocess(i['tweet']))\n",
    "    if len(sent_arr) == 0:\n",
    "        print(i)\n",
    "        val_data.remove(i)\n",
    "        continue\n",
    "val_data = CustomDataset(val_data,preprocess,max_length,vocab2idx)\n",
    "val_dataloader = DataLoader(val_data,batch_size=1)\n",
    "\n",
    "# evalute(val_dataloader,model_2,loss_fn)"
   ]
  },
  {
   "cell_type": "code",
   "execution_count": 32,
   "metadata": {},
   "outputs": [
    {
     "name": "stdout",
     "output_type": "stream",
     "text": [
      "Epoch 1\n",
      "-----------------------\n"
     ]
    },
    {
     "name": "stdout",
     "output_type": "stream",
     "text": [
      "loss: 0.693661 [    0/ 6955]\n",
      "loss: 0.210038 [ 6400/ 6955]\n",
      "marco f1 score :  0.1302253580253981\n",
      "save model\n",
      "Epoch 2\n",
      "-----------------------\n",
      "loss: 0.254733 [    0/ 6955]\n",
      "loss: 0.199753 [ 6400/ 6955]\n",
      "marco f1 score :  0.3299087906405335\n",
      "save model\n",
      "Epoch 3\n",
      "-----------------------\n",
      "loss: 0.187391 [    0/ 6955]\n",
      "loss: 0.160035 [ 6400/ 6955]\n",
      "marco f1 score :  0.46396451857482957\n",
      "save model\n",
      "Epoch 4\n",
      "-----------------------\n",
      "loss: 0.152867 [    0/ 6955]\n",
      "loss: 0.136978 [ 6400/ 6955]\n",
      "marco f1 score :  0.49985203910899817\n",
      "save model\n",
      "Epoch 5\n",
      "-----------------------\n",
      "loss: 0.092642 [    0/ 6955]\n",
      "loss: 0.095671 [ 6400/ 6955]\n",
      "marco f1 score :  0.5197272986561857\n",
      "save model\n",
      "Epoch 6\n",
      "-----------------------\n",
      "loss: 0.098214 [    0/ 6955]\n",
      "loss: 0.103575 [ 6400/ 6955]\n",
      "marco f1 score :  0.4999815876779601\n",
      "Epoch 7\n",
      "-----------------------\n",
      "loss: 0.059482 [    0/ 6955]\n",
      "loss: 0.050745 [ 6400/ 6955]\n",
      "marco f1 score :  0.5109581112870453\n",
      "Epoch 8\n",
      "-----------------------\n",
      "loss: 0.062120 [    0/ 6955]\n",
      "loss: 0.056865 [ 6400/ 6955]\n",
      "marco f1 score :  0.5258619279603849\n",
      "save model\n",
      "Epoch 9\n",
      "-----------------------\n",
      "loss: 0.041267 [    0/ 6955]\n",
      "loss: 0.035130 [ 6400/ 6955]\n",
      "marco f1 score :  0.535278132473894\n",
      "save model\n",
      "Epoch 10\n",
      "-----------------------\n",
      "loss: 0.022009 [    0/ 6955]\n",
      "loss: 0.021688 [ 6400/ 6955]\n",
      "marco f1 score :  0.5691841029238967\n",
      "save model\n",
      "Epoch 11\n",
      "-----------------------\n",
      "loss: 0.036764 [    0/ 6955]\n",
      "loss: 0.020910 [ 6400/ 6955]\n",
      "marco f1 score :  0.58502470322299\n",
      "save model\n",
      "Epoch 12\n",
      "-----------------------\n",
      "loss: 0.041748 [    0/ 6955]\n",
      "loss: 0.053115 [ 6400/ 6955]\n",
      "marco f1 score :  0.5693367623848317\n",
      "Epoch 13\n",
      "-----------------------\n",
      "loss: 0.034769 [    0/ 6955]\n",
      "loss: 0.012454 [ 6400/ 6955]\n",
      "marco f1 score :  0.5588801450103248\n",
      "Epoch 14\n",
      "-----------------------\n",
      "loss: 0.011748 [    0/ 6955]\n",
      "loss: 0.016919 [ 6400/ 6955]\n",
      "marco f1 score :  0.5673138945114681\n",
      "Epoch 15\n",
      "-----------------------\n",
      "loss: 0.004047 [    0/ 6955]\n",
      "loss: 0.004618 [ 6400/ 6955]\n",
      "marco f1 score :  0.5716007073711501\n",
      "Epoch 16\n",
      "-----------------------\n",
      "loss: 0.008046 [    0/ 6955]\n",
      "loss: 0.010656 [ 6400/ 6955]\n",
      "marco f1 score :  0.5518472308545107\n",
      "Epoch 17\n",
      "-----------------------\n",
      "loss: 0.011323 [    0/ 6955]\n",
      "loss: 0.002931 [ 6400/ 6955]\n",
      "marco f1 score :  0.5403788224240033\n",
      "Epoch 18\n",
      "-----------------------\n",
      "loss: 0.004685 [    0/ 6955]\n",
      "loss: 0.004847 [ 6400/ 6955]\n",
      "marco f1 score :  0.578849795308575\n",
      "Epoch 19\n",
      "-----------------------\n",
      "loss: 0.004264 [    0/ 6955]\n",
      "loss: 0.008187 [ 6400/ 6955]\n",
      "marco f1 score :  0.5389538877741361\n",
      "Epoch 20\n",
      "-----------------------\n",
      "loss: 0.008355 [    0/ 6955]\n",
      "loss: 0.018897 [ 6400/ 6955]\n",
      "marco f1 score :  0.5537070280160187\n",
      "Epoch 21\n",
      "-----------------------\n",
      "loss: 0.011190 [    0/ 6955]\n",
      "loss: 0.003512 [ 6400/ 6955]\n",
      "marco f1 score :  0.5409240308863246\n",
      "Epoch 22\n",
      "-----------------------\n",
      "loss: 0.003715 [    0/ 6955]\n",
      "loss: 0.005387 [ 6400/ 6955]\n",
      "marco f1 score :  0.541709902611716\n",
      "Epoch 23\n",
      "-----------------------\n",
      "loss: 0.000867 [    0/ 6955]\n",
      "loss: 0.007513 [ 6400/ 6955]\n",
      "marco f1 score :  0.5408158429094876\n",
      "Epoch 24\n",
      "-----------------------\n",
      "loss: 0.000445 [    0/ 6955]\n",
      "loss: 0.017255 [ 6400/ 6955]\n",
      "marco f1 score :  0.5220017267731619\n",
      "Epoch 25\n",
      "-----------------------\n",
      "loss: 0.003759 [    0/ 6955]\n",
      "loss: 0.019489 [ 6400/ 6955]\n",
      "marco f1 score :  0.533894971216137\n",
      "Epoch 26\n",
      "-----------------------\n",
      "loss: 0.007480 [    0/ 6955]\n",
      "loss: 0.000662 [ 6400/ 6955]\n",
      "marco f1 score :  0.5448552143364296\n",
      "Epoch 27\n",
      "-----------------------\n",
      "loss: 0.004435 [    0/ 6955]\n",
      "loss: 0.000858 [ 6400/ 6955]\n",
      "marco f1 score :  0.5328372281625832\n",
      "Epoch 28\n",
      "-----------------------\n",
      "loss: 0.000718 [    0/ 6955]\n",
      "loss: 0.007222 [ 6400/ 6955]\n",
      "marco f1 score :  0.5354380847334945\n",
      "Epoch 29\n",
      "-----------------------\n",
      "loss: 0.003397 [    0/ 6955]\n",
      "loss: 0.005487 [ 6400/ 6955]\n",
      "marco f1 score :  0.5376360956161291\n",
      "Epoch 30\n",
      "-----------------------\n",
      "loss: 0.004884 [    0/ 6955]\n",
      "loss: 0.003512 [ 6400/ 6955]\n",
      "marco f1 score :  0.5392516752773567\n",
      "best score:  0.58502470322299\n"
     ]
    }
   ],
   "source": [
    "epochs = 30\n",
    "max_score = 0 \n",
    "for t in range(epochs):\n",
    "    print(f\"Epoch {t+1}\\n-----------------------\")\n",
    "    train(train_loader,model_2,loss_fn,optimizer)\n",
    "    score = evalute(val_dataloader,model_2,loss_fn)\n",
    "    # print(f\"max score in {t+1} epoch : \",score)\n",
    "    if score > max_score:\n",
    "        max_score =score\n",
    "        path = './w_weight.pth'\n",
    "        torch.save(model_2.state_dict(),path)\n",
    "        print('save model')\n",
    "print(\"best score: \" ,max_score)"
   ]
  },
  {
   "cell_type": "code",
   "execution_count": 33,
   "metadata": {},
   "outputs": [],
   "source": [
    "class testDataset(Dataset):\n",
    "    def __init__(self,data, tokenizer,max_length,words):\n",
    "        self.data = data \n",
    "        self.tokenizer = tokenizer\n",
    "        self.max_length = max_length\n",
    "        self.words = words\n",
    "\n",
    "    def __len__(self):\n",
    "        return len(self.data)\n",
    "    def __getitem__(self, index) :\n",
    "        tweet = self.data[index][\"tweet\"]\n",
    "        encode_text = self.encode(tweet,self.words)\n",
    "        seq_len = np.count_nonzero(encode_text)\n",
    "        return encode_text  , seq_len\n",
    "    def encode(self,text,vocab2idx):\n",
    "        token = self.tokenizer(text)\n",
    "        encoded = np.zeros(self.max_length,dtype=int)\n",
    "        enc1 = np.array([vocab2idx.get(word,vocab2idx[\"UNK\"]) for word in token] )\n",
    "        # print(enc1.shape)\n",
    "        length = min(self.max_length,len(enc1))\n",
    "        encoded[:length] = enc1[:length]\n",
    "        return encoded "
   ]
  },
  {
   "cell_type": "code",
   "execution_count": 34,
   "metadata": {},
   "outputs": [],
   "source": [
    "test_data = load_data(\"test.json\")\n",
    "test_data = testDataset(test_data,preprocess,max_length,vocab2idx)\n",
    "test_loader = DataLoader(test_data,batch_size=1)"
   ]
  },
  {
   "cell_type": "code",
   "execution_count": 35,
   "metadata": {},
   "outputs": [],
   "source": [
    "path = './w_weight.pth'\n",
    "model_2 = pretrain_weight_LSTM(vocab_size,embedding_dim,hidden_dim,pretrain_weights,bidirectional).to(device)\n",
    "model_2.load_state_dict(torch.load(path))\n",
    "model_2.eval()\n",
    "y_pred = []\n",
    "with torch.no_grad():\n",
    "    for x,seq_len in test_loader:\n",
    "        x = x.to(device)\n",
    "        pred = model_2(x,seq_len)\n",
    "        y_pred.extend(torch.sigmoid(pred).cpu().detach().numpy().tolist())"
   ]
  },
  {
   "cell_type": "code",
   "execution_count": 36,
   "metadata": {},
   "outputs": [
    {
     "data": {
      "text/plain": [
       "array([[0, 0, 0, ..., 0, 0, 0],\n",
       "       [0, 1, 0, ..., 0, 0, 0],\n",
       "       [0, 0, 0, ..., 0, 0, 0],\n",
       "       ...,\n",
       "       [0, 0, 0, ..., 0, 0, 0],\n",
       "       [0, 1, 1, ..., 0, 0, 0],\n",
       "       [0, 0, 0, ..., 0, 0, 0]])"
      ]
     },
     "execution_count": 36,
     "metadata": {},
     "output_type": "execute_result"
    }
   ],
   "source": [
    "y_preds = (np.array(y_pred) > 0.5).astype(int)\n",
    "y_preds"
   ]
  },
  {
   "cell_type": "code",
   "execution_count": 37,
   "metadata": {},
   "outputs": [],
   "source": [
    "df = pd.DataFrame(y_preds, columns=tag_list)\n",
    "df_reset = df.reset_index()\n",
    "# print(df_reset.head())"
   ]
  },
  {
   "cell_type": "code",
   "execution_count": 38,
   "metadata": {},
   "outputs": [],
   "source": [
    "data_rows = df_reset.to_dict(orient='records')"
   ]
  },
  {
   "cell_type": "code",
   "execution_count": 39,
   "metadata": {},
   "outputs": [],
   "source": [
    "import csv\n",
    "with open(\"submission.csv\", 'w', newline='') as csvfile:\n",
    "    fieldnames=[\"index\",\"ineffective\",\"unnecessary\",\"pharma\",\"rushed\",\"side-effect\",\"mandatory\",\"country\",\"ingredients\",\"political\",\"none\",\"conspiracy\",\"religious\"]\n",
    "    writer = csv.DictWriter(csvfile, fieldnames=fieldnames)\n",
    "    writer.writeheader()\n",
    "    writer.writerows(data_rows)"
   ]
  }
 ],
 "metadata": {
  "kernelspec": {
   "display_name": "vst",
   "language": "python",
   "name": "python3"
  },
  "language_info": {
   "codemirror_mode": {
    "name": "ipython",
    "version": 3
   },
   "file_extension": ".py",
   "mimetype": "text/x-python",
   "name": "python",
   "nbconvert_exporter": "python",
   "pygments_lexer": "ipython3",
   "version": "3.8.18"
  }
 },
 "nbformat": 4,
 "nbformat_minor": 2
}
