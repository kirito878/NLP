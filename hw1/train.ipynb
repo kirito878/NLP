{
 "cells": [
  {
   "cell_type": "code",
   "execution_count": 8,
   "metadata": {},
   "outputs": [],
   "source": [
    "import os\n",
    "import torch\n",
    "from torch import nn\n",
    "import torchtext\n",
    "from torchtext.data import get_tokenizer\n",
    "import numpy as np\n",
    "import pandas as pd\n",
    "import json\n",
    "from torch.utils.data import Dataset , DataLoader"
   ]
  },
  {
   "cell_type": "code",
   "execution_count": 9,
   "metadata": {},
   "outputs": [
    {
     "name": "stdout",
     "output_type": "stream",
     "text": [
      "['This', 'is', 'a', 'pytorch', 'U.S.A']\n"
     ]
    }
   ],
   "source": [
    "tokenizer = get_tokenizer('spacy')\n",
    "text = \"This is a pytorch U.S.A\"\n",
    "tokens = tokenizer(text)\n",
    "print(tokens)"
   ]
  },
  {
   "cell_type": "code",
   "execution_count": 11,
   "metadata": {},
   "outputs": [
    {
     "name": "stdout",
     "output_type": "stream",
     "text": [
      "ineffective 0\n",
      "unnecessary 1\n",
      "pharma 2\n",
      "rushed 3\n",
      "side-effect 4\n",
      "mandatory 5\n",
      "country 6\n",
      "ingredients 7\n",
      "political 8\n",
      "none 9\n",
      "conspiracy 10\n",
      "religious 11\n"
     ]
    }
   ],
   "source": [
    "tag_list=[\"ineffective\",\"unnecessary\",\"pharma\",\"rushed\",\"side-effect\",\"mandatory\",\"country\",\"ingredients\",\"political\",\"none\",\"conspiracy\",\"religious\"]\n",
    "tag_to_idx={}\n",
    "for i in range(len(tag_list)):\n",
    "    tag_to_idx[tag_list[i]]=i"
   ]
  },
  {
   "cell_type": "code",
   "execution_count": null,
   "metadata": {},
   "outputs": [],
   "source": [
    "def load_data(path)\n",
    "    with open(path,'r',encoding='utf-8') as file:\n",
    "        data = json.load(file)\n",
    "    # print(len(train_data))\n",
    "    return data"
   ]
  },
  {
   "cell_type": "code",
   "execution_count": 10,
   "metadata": {},
   "outputs": [],
   "source": [
    "\n",
    "\n",
    "class CustomDataset(Dataset):\n",
    "    def __init__(self,data, label):\n",
    "        self.data = data \n",
    "        self.label = label\n",
    "\n",
    "    def __len__(self):\n",
    "        return len(self.data)\n",
    "    def __getitem__(self, index) :\n",
    "        return self.data[index] , self.label[index]\n",
    " \n"
   ]
  },
  {
   "cell_type": "code",
   "execution_count": 12,
   "metadata": {},
   "outputs": [
    {
     "name": "stdout",
     "output_type": "stream",
     "text": [
      "6956\n"
     ]
    }
   ],
   "source": [
    "embed_len = 50 \n",
    "batch_size = 32\n",
    "num_label=len(tag_list)\n",
    "\n",
    "def vectorize(label)"
   ]
  },
  {
   "cell_type": "code",
   "execution_count": null,
   "metadata": {},
   "outputs": [],
   "source": [
    "tmp =load_data(\"train.json\")\n",
    "print(len(tmp))\n",
    "print(tmp[0])"
   ]
  }
 ],
 "metadata": {
  "kernelspec": {
   "display_name": "vst",
   "language": "python",
   "name": "python3"
  },
  "language_info": {
   "codemirror_mode": {
    "name": "ipython",
    "version": 3
   },
   "file_extension": ".py",
   "mimetype": "text/x-python",
   "name": "python",
   "nbconvert_exporter": "python",
   "pygments_lexer": "ipython3",
   "version": "3.8.18"
  }
 },
 "nbformat": 4,
 "nbformat_minor": 2
}
