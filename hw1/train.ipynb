{
 "cells": [
  {
   "cell_type": "code",
   "execution_count": 26,
   "metadata": {},
   "outputs": [],
   "source": [
    "import os\n",
    "import torch\n",
    "from torch import nn\n",
    "import torchtext\n",
    "from torchtext.data import get_tokenizer\n",
    "import numpy as np\n",
    "import pandas as pd\n",
    "import json\n",
    "from torch.utils.data import Dataset , DataLoader"
   ]
  },
  {
   "cell_type": "code",
   "execution_count": 27,
   "metadata": {},
   "outputs": [],
   "source": [
    "def load_data(path):\n",
    "    with open(path,'r',encoding='utf-8') as file:\n",
    "        data = json.load(file)\n",
    "    # print(len(train_data))\n",
    "    return data"
   ]
  },
  {
   "cell_type": "code",
   "execution_count": 28,
   "metadata": {},
   "outputs": [
    {
     "name": "stderr",
     "output_type": "stream",
     "text": [
      "/home/wujh1123/anaconda3/envs/nlp/lib/python3.8/site-packages/torchtext/data/utils.py:105: UserWarning: Spacy model \"en\" could not be loaded, trying \"en_core_web_sm\" instead\n",
      "  warnings.warn(\n"
     ]
    },
    {
     "name": "stdout",
     "output_type": "stream",
     "text": [
      "26345\n"
     ]
    }
   ],
   "source": [
    "# import spacy\n",
    "# nlp = spacy.load('en_core_web_sm')\n",
    "tokenizer = get_tokenizer('spacy')\n",
    "train_data =load_data(\"train.json\")\n",
    "words = set()\n",
    "for i in train_data:\n",
    "    sent_arr = set(tokenizer(i['tweet']))\n",
    "    words = words | sent_arr\n",
    "words = [\"\",\"UNK\"]+list(words)\n",
    "print(len(words))"
   ]
  },
  {
   "cell_type": "code",
   "execution_count": 29,
   "metadata": {},
   "outputs": [],
   "source": [
    "tag_list=[\"ineffective\",\"unnecessary\",\"pharma\",\"rushed\",\"side-effect\",\"mandatory\",\"country\",\"ingredients\",\"political\",\"none\",\"conspiracy\",\"religious\"]\n",
    "tag_to_idx={}\n",
    "for i in range(len(tag_list)):\n",
    "    tag_to_idx[tag_list[i]]=i"
   ]
  },
  {
   "cell_type": "code",
   "execution_count": 30,
   "metadata": {},
   "outputs": [
    {
     "name": "stdout",
     "output_type": "stream",
     "text": [
      "<class 'dict'>\n",
      "{'ineffective': [{'index': 0, 'start': 6, 'end': 10, 'terms': 'cant control the Flu'}, {'index': 1, 'start': 37, 'end': 39, 'terms': 'infectious diseases'}]}\n",
      "['ineffective']\n",
      "4 side-effect\n"
     ]
    }
   ],
   "source": [
    "print(type(train_data[0]['labels']))\n",
    "print(train_data[0]['labels'])\n",
    "print(list(train_data[0]['labels'].keys()))\n",
    "for i in list(train_data[77]['labels'].keys()):\n",
    "    print(tag_to_idx[i],i)"
   ]
  },
  {
   "cell_type": "code",
   "execution_count": 31,
   "metadata": {},
   "outputs": [],
   "source": [
    "vocab2idx = {k:v for v,k in enumerate(words)}\n",
    "vocab_size = len(words)"
   ]
  },
  {
   "cell_type": "code",
   "execution_count": 32,
   "metadata": {},
   "outputs": [],
   "source": [
    "def load_glove_vectors(glove_file=\"glove.6B.300d.txt\"):\n",
    "    word_vectors = {}\n",
    "    with open(glove_file) as f:\n",
    "        for line in f :\n",
    "            s = line.split()\n",
    "            word_vectors[s[0]] = np.array([float(x) for x in s[1:]])\n",
    "    return word_vectors"
   ]
  },
  {
   "cell_type": "code",
   "execution_count": 33,
   "metadata": {},
   "outputs": [],
   "source": [
    "def get_emb_matrix(pretained,words,emb_size=300):\n",
    "    W = np.zeros((len(words),emb_size),dtype=\"float32\")\n",
    "    W[0] = np.zeros(emb_size,dtype=\"float32\")\n",
    "    W[1] = np.random.uniform(-0.25,0.25,emb_size)\n",
    "    i = 2\n",
    "    for word in words[2:]:\n",
    "        if word in pretained:\n",
    "            W[i] = pretained[word]\n",
    "        else:\n",
    "            W[i] =  np.random.uniform(-0.25,0.25,emb_size)\n",
    "        i+=1\n",
    "    return W"
   ]
  },
  {
   "cell_type": "code",
   "execution_count": 34,
   "metadata": {},
   "outputs": [],
   "source": [
    "word_vecs = load_glove_vectors()\n",
    "pretrain_weights = get_emb_matrix(word_vecs,words)"
   ]
  },
  {
   "cell_type": "code",
   "execution_count": 35,
   "metadata": {},
   "outputs": [],
   "source": [
    "\n",
    "\n",
    "class CustomDataset(Dataset):\n",
    "    def __init__(self,data, tokenizer,max_length,words):\n",
    "        self.data = data \n",
    "        self.tokenizer = tokenizer\n",
    "        self.max_length = max_length\n",
    "        self.words = words\n",
    "\n",
    "    def __len__(self):\n",
    "        return len(self.data)\n",
    "    def __getitem__(self, index) :\n",
    "        tweet = self.data[index][\"tweet\"]\n",
    "        labels = self.data[index][\"labels\"]\n",
    "        encode_text = self.encode(tweet,self.words)\n",
    "        encode_label = self.label_encoded(labels)\n",
    "        seq_len = np.count_nonzero(encode_text)\n",
    "        return encode_text , encode_label , seq_len\n",
    "    def encode(self,text,vocab2idx):\n",
    "        token = self.tokenizer(text)\n",
    "        encoded = np.zeros(self.max_length,dtype=int)\n",
    "        enc1 = np.array([vocab2idx.get(word,vocab2idx[\"UNK\"]) for word in token] )\n",
    "        # print(enc1.shape)\n",
    "        length = min(self.max_length,len(enc1))\n",
    "        encoded[:length] = enc1[:length]\n",
    "        return encoded \n",
    "    def label_encoded(self,labels):\n",
    "        encode_label = np.zeros(12,dtype=int)\n",
    "        list_label = list(labels.keys())\n",
    "        for i in list_label:\n",
    "            idx = tag_to_idx[i]\n",
    "            encode_label[idx] = 1\n",
    "        # encode_label = torch.LongTensor(encode_label)\n",
    "        return encode_label "
   ]
  },
  {
   "cell_type": "code",
   "execution_count": 36,
   "metadata": {},
   "outputs": [],
   "source": [
    "train_data = CustomDataset(train_data,tokenizer,30,vocab2idx)\n",
    "train_loader = DataLoader(train_data,batch_size=32)"
   ]
  },
  {
   "cell_type": "code",
   "execution_count": 37,
   "metadata": {},
   "outputs": [
    {
     "name": "stdout",
     "output_type": "stream",
     "text": [
      "Now is using cuda device\n"
     ]
    }
   ],
   "source": [
    "device = \"cuda\" if torch.cuda.is_available() else \"cpu\"\n",
    "print(f\"Now is using {device} device\")"
   ]
  },
  {
   "cell_type": "code",
   "execution_count": 38,
   "metadata": {},
   "outputs": [],
   "source": [
    "from torch.nn.utils.rnn import pack_padded_sequence"
   ]
  },
  {
   "cell_type": "code",
   "execution_count": 39,
   "metadata": {},
   "outputs": [],
   "source": [
    "def train(dataloader,model,loss_fn,optimizer):\n",
    "    size = len(dataloader.dataset)\n",
    "    model.train()\n",
    "    for batch , (X,y,seq) in enumerate(dataloader):\n",
    "        X,y =X.to(device),y.to(device,dtype=torch.float)\n",
    "        # print(seq)\n",
    "        pred = model(X,seq)\n",
    "        # print(pred.dtype)\n",
    "        loss = loss_fn(pred,y)\n",
    "\n",
    "\n",
    "        optimizer.zero_grad()\n",
    "        loss.backward()\n",
    "        optimizer.step()\n",
    "\n",
    "        if batch%200 ==0:\n",
    "            loss,curr = loss.item() , batch * len(X)\n",
    "            print(f\"loss: {loss:>7f} [{curr:>5d}/{size:>5d}]\")"
   ]
  },
  {
   "cell_type": "code",
   "execution_count": 40,
   "metadata": {},
   "outputs": [],
   "source": [
    "class pretrain_weight_LSTM(nn.Module):\n",
    "    def __init__(self, vocab_size, embedding_dim,hidden_dim,pretrain_weights,bidirectional) :\n",
    "        super().__init__()\n",
    "        self.hidden_dim = hidden_dim\n",
    "        self.embeddings = nn.Embedding(vocab_size,embedding_dim,padding_idx=0)\n",
    "        self.embeddings.weight.data.copy_(torch.from_numpy(pretrain_weights))\n",
    "        self.embeddings.weight.requires_grad = True \n",
    "        self.lstm = nn.LSTM(embedding_dim,hidden_dim,bidirectional=bidirectional,dropout=0.1,batch_first=True)\n",
    "        self.relu = nn.ReLU()\n",
    "        self.fc1 = nn.Linear(in_features=hidden_dim,out_features=hidden_dim)\n",
    "        self.droupt = nn.Dropout(0.3)\n",
    "        self.linear = nn.Linear(hidden_dim,12)\n",
    "    def forward(self,x,s):\n",
    "        embeed = self.embeddings(x)\n",
    "        x_pack = pack_padded_sequence(embeed,s.to('cpu'),batch_first=True, enforce_sorted=False)\n",
    "        pack_out , (ht,ct) = self.lstm(x_pack)\n",
    "        out = self.droupt(ht[-1])\n",
    "        out = self.fc1(out)\n",
    "        out = self.relu(out)\n",
    "        out = self.droupt(out)\n",
    "        out = self.linear(out)\n",
    "        return out "
   ]
  },
  {
   "cell_type": "code",
   "execution_count": 41,
   "metadata": {},
   "outputs": [
    {
     "name": "stderr",
     "output_type": "stream",
     "text": [
      "/home/wujh1123/anaconda3/envs/nlp/lib/python3.8/site-packages/torch/nn/modules/rnn.py:82: UserWarning: dropout option adds dropout after all but last recurrent layer, so non-zero dropout expects num_layers greater than 1, but got dropout=0.1 and num_layers=1\n",
      "  warnings.warn(\"dropout option adds dropout after all but last \"\n"
     ]
    }
   ],
   "source": [
    "bidirectional = False\n",
    "model_2 = pretrain_weight_LSTM(vocab_size,300,128,pretrain_weights,bidirectional).to(device)"
   ]
  },
  {
   "cell_type": "code",
   "execution_count": 42,
   "metadata": {},
   "outputs": [],
   "source": [
    "loss_fn = nn.BCEWithLogitsLoss()\n",
    "optimizer = torch.optim.Adam(model_2.parameters(),lr=1e-3)"
   ]
  },
  {
   "cell_type": "code",
   "execution_count": 43,
   "metadata": {},
   "outputs": [
    {
     "name": "stdout",
     "output_type": "stream",
     "text": [
      "Epoch 1\n",
      "-----------------------\n",
      "loss: 0.692355 [    0/ 6956]\n"
     ]
    },
    {
     "name": "stdout",
     "output_type": "stream",
     "text": [
      "loss: 0.275161 [ 6400/ 6956]\n",
      "Epoch 2\n",
      "-----------------------\n",
      "loss: 0.306999 [    0/ 6956]\n",
      "loss: 0.247247 [ 6400/ 6956]\n",
      "Epoch 3\n",
      "-----------------------\n",
      "loss: 0.269714 [    0/ 6956]\n",
      "loss: 0.209759 [ 6400/ 6956]\n",
      "Epoch 4\n",
      "-----------------------\n",
      "loss: 0.239864 [    0/ 6956]\n",
      "loss: 0.199926 [ 6400/ 6956]\n",
      "Epoch 5\n",
      "-----------------------\n",
      "loss: 0.228741 [    0/ 6956]\n",
      "loss: 0.182685 [ 6400/ 6956]\n",
      "Epoch 6\n",
      "-----------------------\n",
      "loss: 0.196699 [    0/ 6956]\n",
      "loss: 0.151587 [ 6400/ 6956]\n",
      "Epoch 7\n",
      "-----------------------\n",
      "loss: 0.171403 [    0/ 6956]\n",
      "loss: 0.130859 [ 6400/ 6956]\n",
      "Epoch 8\n",
      "-----------------------\n",
      "loss: 0.130768 [    0/ 6956]\n",
      "loss: 0.112002 [ 6400/ 6956]\n",
      "Epoch 9\n",
      "-----------------------\n",
      "loss: 0.124236 [    0/ 6956]\n",
      "loss: 0.092499 [ 6400/ 6956]\n",
      "Epoch 10\n",
      "-----------------------\n",
      "loss: 0.113724 [    0/ 6956]\n",
      "loss: 0.065717 [ 6400/ 6956]\n",
      "Epoch 11\n",
      "-----------------------\n",
      "loss: 0.067655 [    0/ 6956]\n",
      "loss: 0.047528 [ 6400/ 6956]\n",
      "Epoch 12\n",
      "-----------------------\n",
      "loss: 0.059654 [    0/ 6956]\n",
      "loss: 0.041297 [ 6400/ 6956]\n",
      "Epoch 13\n",
      "-----------------------\n",
      "loss: 0.042532 [    0/ 6956]\n",
      "loss: 0.043442 [ 6400/ 6956]\n",
      "Epoch 14\n",
      "-----------------------\n",
      "loss: 0.031717 [    0/ 6956]\n",
      "loss: 0.023971 [ 6400/ 6956]\n",
      "Epoch 15\n",
      "-----------------------\n",
      "loss: 0.020319 [    0/ 6956]\n",
      "loss: 0.024785 [ 6400/ 6956]\n",
      "Epoch 16\n",
      "-----------------------\n",
      "loss: 0.018709 [    0/ 6956]\n",
      "loss: 0.009173 [ 6400/ 6956]\n",
      "Epoch 17\n",
      "-----------------------\n",
      "loss: 0.016563 [    0/ 6956]\n",
      "loss: 0.008729 [ 6400/ 6956]\n",
      "Epoch 18\n",
      "-----------------------\n",
      "loss: 0.010713 [    0/ 6956]\n",
      "loss: 0.005433 [ 6400/ 6956]\n",
      "Epoch 19\n",
      "-----------------------\n",
      "loss: 0.010979 [    0/ 6956]\n",
      "loss: 0.014331 [ 6400/ 6956]\n",
      "Epoch 20\n",
      "-----------------------\n",
      "loss: 0.006932 [    0/ 6956]\n",
      "loss: 0.002234 [ 6400/ 6956]\n",
      "Epoch 21\n",
      "-----------------------\n",
      "loss: 0.009223 [    0/ 6956]\n",
      "loss: 0.011055 [ 6400/ 6956]\n",
      "Epoch 22\n",
      "-----------------------\n",
      "loss: 0.007408 [    0/ 6956]\n",
      "loss: 0.008205 [ 6400/ 6956]\n",
      "Epoch 23\n",
      "-----------------------\n",
      "loss: 0.005297 [    0/ 6956]\n",
      "loss: 0.000837 [ 6400/ 6956]\n",
      "Epoch 24\n",
      "-----------------------\n",
      "loss: 0.008729 [    0/ 6956]\n",
      "loss: 0.001660 [ 6400/ 6956]\n",
      "Epoch 25\n",
      "-----------------------\n",
      "loss: 0.009637 [    0/ 6956]\n",
      "loss: 0.000902 [ 6400/ 6956]\n",
      "Epoch 26\n",
      "-----------------------\n",
      "loss: 0.003840 [    0/ 6956]\n",
      "loss: 0.007793 [ 6400/ 6956]\n",
      "Epoch 27\n",
      "-----------------------\n",
      "loss: 0.007739 [    0/ 6956]\n",
      "loss: 0.002927 [ 6400/ 6956]\n",
      "Epoch 28\n",
      "-----------------------\n",
      "loss: 0.001271 [    0/ 6956]\n",
      "loss: 0.004765 [ 6400/ 6956]\n",
      "Epoch 29\n",
      "-----------------------\n",
      "loss: 0.001153 [    0/ 6956]\n",
      "loss: 0.001442 [ 6400/ 6956]\n",
      "Epoch 30\n",
      "-----------------------\n",
      "loss: 0.002633 [    0/ 6956]\n",
      "loss: 0.013094 [ 6400/ 6956]\n",
      "Epoch 31\n",
      "-----------------------\n",
      "loss: 0.000798 [    0/ 6956]\n",
      "loss: 0.008215 [ 6400/ 6956]\n",
      "Epoch 32\n",
      "-----------------------\n",
      "loss: 0.016715 [    0/ 6956]\n",
      "loss: 0.000527 [ 6400/ 6956]\n",
      "Epoch 33\n",
      "-----------------------\n",
      "loss: 0.003504 [    0/ 6956]\n",
      "loss: 0.000962 [ 6400/ 6956]\n",
      "Epoch 34\n",
      "-----------------------\n",
      "loss: 0.001272 [    0/ 6956]\n",
      "loss: 0.002143 [ 6400/ 6956]\n",
      "Epoch 35\n",
      "-----------------------\n",
      "loss: 0.002381 [    0/ 6956]\n",
      "loss: 0.000338 [ 6400/ 6956]\n",
      "Epoch 36\n",
      "-----------------------\n",
      "loss: 0.001773 [    0/ 6956]\n",
      "loss: 0.003409 [ 6400/ 6956]\n",
      "Epoch 37\n",
      "-----------------------\n",
      "loss: 0.002077 [    0/ 6956]\n",
      "loss: 0.002454 [ 6400/ 6956]\n",
      "Epoch 38\n",
      "-----------------------\n",
      "loss: 0.011313 [    0/ 6956]\n",
      "loss: 0.007424 [ 6400/ 6956]\n",
      "Epoch 39\n",
      "-----------------------\n",
      "loss: 0.000432 [    0/ 6956]\n",
      "loss: 0.002490 [ 6400/ 6956]\n",
      "Epoch 40\n",
      "-----------------------\n",
      "loss: 0.001550 [    0/ 6956]\n",
      "loss: 0.005088 [ 6400/ 6956]\n",
      "Epoch 41\n",
      "-----------------------\n",
      "loss: 0.001714 [    0/ 6956]\n",
      "loss: 0.001001 [ 6400/ 6956]\n",
      "Epoch 42\n",
      "-----------------------\n",
      "loss: 0.000409 [    0/ 6956]\n",
      "loss: 0.000435 [ 6400/ 6956]\n",
      "Epoch 43\n",
      "-----------------------\n",
      "loss: 0.001304 [    0/ 6956]\n",
      "loss: 0.000302 [ 6400/ 6956]\n",
      "Epoch 44\n",
      "-----------------------\n",
      "loss: 0.000580 [    0/ 6956]\n",
      "loss: 0.001006 [ 6400/ 6956]\n",
      "Epoch 45\n",
      "-----------------------\n",
      "loss: 0.000362 [    0/ 6956]\n",
      "loss: 0.001014 [ 6400/ 6956]\n",
      "Epoch 46\n",
      "-----------------------\n",
      "loss: 0.001130 [    0/ 6956]\n",
      "loss: 0.000156 [ 6400/ 6956]\n",
      "Epoch 47\n",
      "-----------------------\n",
      "loss: 0.000627 [    0/ 6956]\n",
      "loss: 0.003754 [ 6400/ 6956]\n",
      "Epoch 48\n",
      "-----------------------\n",
      "loss: 0.000417 [    0/ 6956]\n",
      "loss: 0.000186 [ 6400/ 6956]\n",
      "Epoch 49\n",
      "-----------------------\n",
      "loss: 0.003427 [    0/ 6956]\n",
      "loss: 0.000872 [ 6400/ 6956]\n",
      "Epoch 50\n",
      "-----------------------\n",
      "loss: 0.011057 [    0/ 6956]\n",
      "loss: 0.001868 [ 6400/ 6956]\n",
      "Epoch 51\n",
      "-----------------------\n",
      "loss: 0.000530 [    0/ 6956]\n",
      "loss: 0.000115 [ 6400/ 6956]\n",
      "Epoch 52\n",
      "-----------------------\n",
      "loss: 0.000529 [    0/ 6956]\n",
      "loss: 0.000147 [ 6400/ 6956]\n",
      "Epoch 53\n",
      "-----------------------\n",
      "loss: 0.000186 [    0/ 6956]\n",
      "loss: 0.000378 [ 6400/ 6956]\n",
      "Epoch 54\n",
      "-----------------------\n",
      "loss: 0.015668 [    0/ 6956]\n",
      "loss: 0.000164 [ 6400/ 6956]\n",
      "Epoch 55\n",
      "-----------------------\n",
      "loss: 0.000581 [    0/ 6956]\n",
      "loss: 0.000152 [ 6400/ 6956]\n",
      "Epoch 56\n",
      "-----------------------\n",
      "loss: 0.000264 [    0/ 6956]\n",
      "loss: 0.000169 [ 6400/ 6956]\n",
      "Epoch 57\n",
      "-----------------------\n",
      "loss: 0.001710 [    0/ 6956]\n",
      "loss: 0.000082 [ 6400/ 6956]\n",
      "Epoch 58\n",
      "-----------------------\n",
      "loss: 0.000147 [    0/ 6956]\n",
      "loss: 0.000452 [ 6400/ 6956]\n",
      "Epoch 59\n",
      "-----------------------\n",
      "loss: 0.000321 [    0/ 6956]\n",
      "loss: 0.000078 [ 6400/ 6956]\n",
      "Epoch 60\n",
      "-----------------------\n",
      "loss: 0.000292 [    0/ 6956]\n",
      "loss: 0.000109 [ 6400/ 6956]\n",
      "Epoch 61\n",
      "-----------------------\n",
      "loss: 0.000868 [    0/ 6956]\n",
      "loss: 0.000068 [ 6400/ 6956]\n",
      "Epoch 62\n",
      "-----------------------\n",
      "loss: 0.000196 [    0/ 6956]\n",
      "loss: 0.007407 [ 6400/ 6956]\n",
      "Epoch 63\n",
      "-----------------------\n",
      "loss: 0.000538 [    0/ 6956]\n",
      "loss: 0.000069 [ 6400/ 6956]\n",
      "Epoch 64\n",
      "-----------------------\n",
      "loss: 0.000225 [    0/ 6956]\n",
      "loss: 0.005011 [ 6400/ 6956]\n",
      "Epoch 65\n",
      "-----------------------\n",
      "loss: 0.002942 [    0/ 6956]\n",
      "loss: 0.010660 [ 6400/ 6956]\n",
      "Epoch 66\n",
      "-----------------------\n",
      "loss: 0.000059 [    0/ 6956]\n",
      "loss: 0.000050 [ 6400/ 6956]\n",
      "Epoch 67\n",
      "-----------------------\n",
      "loss: 0.002279 [    0/ 6956]\n",
      "loss: 0.000190 [ 6400/ 6956]\n",
      "Epoch 68\n",
      "-----------------------\n",
      "loss: 0.000190 [    0/ 6956]\n",
      "loss: 0.000941 [ 6400/ 6956]\n",
      "Epoch 69\n",
      "-----------------------\n",
      "loss: 0.000285 [    0/ 6956]\n",
      "loss: 0.001979 [ 6400/ 6956]\n",
      "Epoch 70\n",
      "-----------------------\n",
      "loss: 0.000082 [    0/ 6956]\n",
      "loss: 0.001367 [ 6400/ 6956]\n",
      "Epoch 71\n",
      "-----------------------\n",
      "loss: 0.000176 [    0/ 6956]\n",
      "loss: 0.000296 [ 6400/ 6956]\n",
      "Epoch 72\n",
      "-----------------------\n",
      "loss: 0.000086 [    0/ 6956]\n",
      "loss: 0.000010 [ 6400/ 6956]\n",
      "Epoch 73\n",
      "-----------------------\n",
      "loss: 0.002326 [    0/ 6956]\n"
     ]
    }
   ],
   "source": [
    "epochs = 200\n",
    "for t in range(epochs):\n",
    "    print(f\"Epoch {t+1}\\n-----------------------\")\n",
    "    train(train_loader,model_2,loss_fn,optimizer)\n",
    "    # test(vaild_loader,model_2,loss_fn)"
   ]
  },
  {
   "cell_type": "code",
   "execution_count": null,
   "metadata": {},
   "outputs": [],
   "source": [
    "class testDataset(Dataset):\n",
    "    def __init__(self,data, tokenizer,max_length,words):\n",
    "        self.data = data \n",
    "        self.tokenizer = tokenizer\n",
    "        self.max_length = max_length\n",
    "        self.words = words\n",
    "\n",
    "    def __len__(self):\n",
    "        return len(self.data)\n",
    "    def __getitem__(self, index) :\n",
    "        tweet = self.data[index][\"tweet\"]\n",
    "        encode_text = self.encode(tweet,self.words)\n",
    "        seq_len = np.count_nonzero(encode_text)\n",
    "        return encode_text  , seq_len\n",
    "    def encode(self,text,vocab2idx):\n",
    "        token = self.tokenizer(text)\n",
    "        encoded = np.zeros(self.max_length,dtype=int)\n",
    "        enc1 = np.array([vocab2idx.get(word,vocab2idx[\"UNK\"]) for word in token] )\n",
    "        # print(enc1.shape)\n",
    "        length = min(self.max_length,len(enc1))\n",
    "        encoded[:length] = enc1[:length]\n",
    "        return encoded "
   ]
  },
  {
   "cell_type": "code",
   "execution_count": null,
   "metadata": {},
   "outputs": [],
   "source": [
    "test_data = load_data(\"test.json\")\n",
    "test_data = testDataset(test_data,tokenizer,30,vocab2idx)\n",
    "test_loader = DataLoader(test_data,batch_size=1)"
   ]
  },
  {
   "cell_type": "code",
   "execution_count": null,
   "metadata": {},
   "outputs": [],
   "source": [
    "model_2.eval()\n",
    "\n",
    "y_pred = []\n",
    "with torch.no_grad():\n",
    "    for x,seq_len in test_loader:\n",
    "        x = x.to(device)\n",
    "        pred = model_2(x,seq_len)\n",
    "        y_pred.extend(torch.sigmoid(pred).cpu().detach().numpy().tolist())"
   ]
  },
  {
   "cell_type": "code",
   "execution_count": null,
   "metadata": {},
   "outputs": [
    {
     "data": {
      "text/plain": [
       "array([[0, 0, 0, ..., 0, 0, 0],\n",
       "       [0, 0, 0, ..., 0, 0, 0],\n",
       "       [0, 0, 1, ..., 0, 0, 0],\n",
       "       ...,\n",
       "       [0, 0, 0, ..., 0, 1, 0],\n",
       "       [0, 0, 1, ..., 0, 0, 0],\n",
       "       [0, 0, 0, ..., 0, 0, 0]])"
      ]
     },
     "execution_count": 22,
     "metadata": {},
     "output_type": "execute_result"
    }
   ],
   "source": [
    "y_preds = (np.array(y_pred) > 0.5).astype(int)\n",
    "y_preds"
   ]
  },
  {
   "cell_type": "code",
   "execution_count": null,
   "metadata": {},
   "outputs": [
    {
     "name": "stdout",
     "output_type": "stream",
     "text": [
      "   index  ineffective  unnecessary  pharma  rushed  side-effect  mandatory  \\\n",
      "0      0            0            0       0       0            0          0   \n",
      "1      1            0            0       0       0            1          0   \n",
      "2      2            0            0       1       1            0          0   \n",
      "3      3            0            0       0       0            1          0   \n",
      "4      4            0            0       0       0            0          0   \n",
      "\n",
      "   country  ingredients  political  none  conspiracy  religious  \n",
      "0        0            0          1     0           0          0  \n",
      "1        0            1          0     0           0          0  \n",
      "2        0            0          0     0           0          0  \n",
      "3        0            0          0     0           0          0  \n",
      "4        1            0          0     0           0          0  \n"
     ]
    }
   ],
   "source": [
    "\n",
    "df = pd.DataFrame(y_preds, columns=tag_list)\n",
    "df_reset = df.reset_index()\n",
    "print(df_reset.head())"
   ]
  },
  {
   "cell_type": "code",
   "execution_count": null,
   "metadata": {},
   "outputs": [],
   "source": [
    "data_rows = df_reset.to_dict(orient='records')"
   ]
  },
  {
   "cell_type": "code",
   "execution_count": null,
   "metadata": {},
   "outputs": [],
   "source": [
    "import csv\n",
    "with open(\"submission.csv\", 'w', newline='') as csvfile:\n",
    "    fieldnames=[\"index\",\"ineffective\",\"unnecessary\",\"pharma\",\"rushed\",\"side-effect\",\"mandatory\",\"country\",\"ingredients\",\"political\",\"none\",\"conspiracy\",\"religious\"]\n",
    "    writer = csv.DictWriter(csvfile, fieldnames=fieldnames)\n",
    "    writer.writeheader()\n",
    "    writer.writerows(data_rows)"
   ]
  }
 ],
 "metadata": {
  "kernelspec": {
   "display_name": "vst",
   "language": "python",
   "name": "python3"
  },
  "language_info": {
   "codemirror_mode": {
    "name": "ipython",
    "version": 3
   },
   "file_extension": ".py",
   "mimetype": "text/x-python",
   "name": "python",
   "nbconvert_exporter": "python",
   "pygments_lexer": "ipython3",
   "version": "3.8.18"
  }
 },
 "nbformat": 4,
 "nbformat_minor": 2
}
