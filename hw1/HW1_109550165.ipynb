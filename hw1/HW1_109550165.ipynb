{
 "cells": [
  {
   "cell_type": "code",
   "execution_count": 1,
   "metadata": {},
   "outputs": [
    {
     "name": "stderr",
     "output_type": "stream",
     "text": [
      "[nltk_data] Downloading package stopwords to\n",
      "[nltk_data]     /home/wujh1123/nltk_data...\n",
      "[nltk_data]   Package stopwords is already up-to-date!\n",
      "[nltk_data] Downloading package wordnet to /home/wujh1123/nltk_data...\n",
      "[nltk_data]   Package wordnet is already up-to-date!\n"
     ]
    }
   ],
   "source": [
    "import os\n",
    "import torch\n",
    "from torch import nn\n",
    "import torchtext\n",
    "from torchtext.data import get_tokenizer\n",
    "import numpy as np\n",
    "import pandas as pd\n",
    "import json\n",
    "from torch.utils.data import Dataset , DataLoader\n",
    "from torch.nn.utils.rnn import pack_padded_sequence ,pad_packed_sequence\n",
    "import nltk \n",
    "nltk.download('stopwords')\n",
    "nltk.download('wordnet')\n",
    "\n",
    "from nltk.corpus import stopwords\n",
    "from nltk.tokenize import word_tokenize\n",
    "import re\n",
    "import string\n",
    "from sklearn.metrics import f1_score\n",
    "from nltk.stem import WordNetLemmatizer"
   ]
  },
  {
   "cell_type": "code",
   "execution_count": 2,
   "metadata": {},
   "outputs": [],
   "source": [
    "def clean_text(text):\n",
    "    text = str(text).lower()\n",
    "    text = re.sub(r\"(?:\\@)\\S+\", \"\", text)\n",
    "    text = re.sub(r\"(?:\\#)\\S+\", \"\", text)\n",
    "    pun = re.compile(\"[\" u\"\\u2014\" u\"\\u2019\" u\"\\u00a3\" u\"\\u20ac\" \"\\u00b4\" \"]+\",re.UNICODE)\n",
    "    text = re.sub(pun, ' ', text)\n",
    "    text = re.sub('\\[.*?\\]', '', text)\n",
    "    text = re.sub('https?://\\S+|www\\.\\S+', '', text)\n",
    "    text = re.sub('<.*?>+', '', text)\n",
    "    text = re.sub('[%s]' % re.escape(string.punctuation), ' ', text)\n",
    "    text = re.sub('\\n', '', text)\n",
    "    text = re.sub('\\w*\\d\\w*', '', text)\n",
    "    return text"
   ]
  },
  {
   "cell_type": "code",
   "execution_count": 3,
   "metadata": {},
   "outputs": [],
   "source": [
    "def remove_emoji(data):\n",
    "    emoj = re.compile(\"[\"\n",
    "        u\"\\U0001F600-\\U0001F64F\"  # emoticons\n",
    "        u\"\\U0001F300-\\U0001F5FF\"  # symbols & pictographs\n",
    "        u\"\\U0001F680-\\U0001F6FF\"  # transport & map symbols\n",
    "        u\"\\U0001F1E0-\\U0001F1FF\"  # flags (iOS)\n",
    "        u\"\\U00002500-\\U00002BEF\"  # chinese char\n",
    "        u\"\\U00002702-\\U000027B0\"\n",
    "        u\"\\U000024C2-\\U0001F251\"\n",
    "        u\"\\U0001f926-\\U0001f937\"\n",
    "        u\"\\U00010000-\\U0010ffff\"\n",
    "        u\"\\u2640-\\u2642\" \n",
    "        u\"\\u2600-\\u2B55\"\n",
    "        u\"\\u200d\"\n",
    "        u\"\\u23cf\"\n",
    "        u\"\\u23e9\"\n",
    "        u\"\\u231a\"\n",
    "        u\"\\ufe0f\"  # dingbats\n",
    "\n",
    "        u\"\\u3030\"\n",
    "        u\"\\u201c\"\n",
    "        u\"\\u201d\"\n",
    "        u\"\\u2049\"\n",
    "        u\"\\ufe0f\"\n",
    "        u\"\\u2026\" \n",
    "        u\"\\u203c\"\n",
    "        u\"\\u2018\"\n",
    "        u\"\\u2066\"\n",
    "        u\"\\u201e\"\n",
    "        u\"\\u200b\"\n",
    "        u\"\\u00d7\"\n",
    "        u\"\\u2022\"\n",
    "        u\"\\u00b7\"\n",
    "        u\"\\u00b5\"\n",
    "\n",
    "                      \"]+\", re.UNICODE)\n",
    "    return re.sub(emoj, '', data)\n",
    "\n"
   ]
  },
  {
   "cell_type": "code",
   "execution_count": 4,
   "metadata": {},
   "outputs": [],
   "source": [
    "stop_words = stopwords.words('english')\n",
    "def remove_stopwords(text):\n",
    "    text = ' '.join(word for word in text.split(' ') if word not in stop_words)\n",
    "    return text"
   ]
  },
  {
   "cell_type": "code",
   "execution_count": 5,
   "metadata": {},
   "outputs": [],
   "source": [
    "lemmatizer = WordNetLemmatizer()\n",
    "def lem_text(text):\n",
    "    text = ' '.join(lemmatizer.lemmatize(word) for word in text.split(' '))\n",
    "    return text"
   ]
  },
  {
   "cell_type": "code",
   "execution_count": 6,
   "metadata": {},
   "outputs": [],
   "source": [
    "def preprocess(text):\n",
    "    text = clean_text(text)\n",
    "    text = remove_emoji(text)\n",
    "    text = remove_stopwords(text)\n",
    "    text = lem_text(text)\n",
    "    text = text.split()\n",
    "    return text"
   ]
  },
  {
   "cell_type": "code",
   "execution_count": 7,
   "metadata": {},
   "outputs": [],
   "source": [
    "def load_data(path):\n",
    "    with open(path,'r',encoding='utf-8') as file:\n",
    "        data = json.load(file)\n",
    "    # print(len(train_data))\n",
    "    return data"
   ]
  },
  {
   "cell_type": "code",
   "execution_count": 8,
   "metadata": {},
   "outputs": [
    {
     "name": "stdout",
     "output_type": "stream",
     "text": [
      "['keep', 'vaccine', 'take', 'covid', 'non', 'existent', 'symptom', 'big', 'pharma', 'liability', 'indemnity', 'lab', 'cooked', 'vaccine', 'thank']\n"
     ]
    }
   ],
   "source": [
    "s = \"@4mishee @ScottMorrisonMP can keep his vaccine \\ud83d\\udc89 I\\u2019ll take covid with its \\u201c non existent \\u201c symptoms over some big pharma no liability or indemnity lab \\ud83e\\uddea cooked vaccine thank you.\"\n",
    "t = preprocess(s)\n",
    "print(t)"
   ]
  },
  {
   "cell_type": "code",
   "execution_count": 9,
   "metadata": {},
   "outputs": [],
   "source": [
    "# train_data =load_data(\"train.json\")\n",
    "# words = set()\n",
    "# for i in train_data:\n",
    "#     for k,v in i['labels'].items():\n",
    "#         sent_arr = set(preprocess(i['tweet']))\n",
    "#         if len(sent_arr) == 0:\n",
    "#             print(i['tweet'])\n",
    "#             train_data.remove(i)\n",
    "#             continue        \n",
    "#         for j in v:\n",
    "#             sent_arr = set(preprocess(j['terms']))\n",
    "#             words = words | sent_arr\n",
    "\n",
    "\n",
    "\n",
    "\n",
    "# words = [\"\",\"UNK\"]+list(words)\n",
    "# print(len(words))"
   ]
  },
  {
   "cell_type": "code",
   "execution_count": 10,
   "metadata": {},
   "outputs": [
    {
     "name": "stdout",
     "output_type": "stream",
     "text": [
      "[The Oxford-AstraZeneca vaccine also seems to produce relatively high rates of adverse events. If you want to dig further into this vaccine’s story and issues, I’ve laid out a more detailed rundown of the Oxford-AstraZeneca trials and sources here.] https://t.co/youZFn8KUr\n",
      "10716\n"
     ]
    }
   ],
   "source": [
    "# import spacy\n",
    "# nlp = spacy.load('en_core_web_sm')\n",
    "# tokenizer = get_tokenizer('spacy')\n",
    "train_data =load_data(\"train.json\")\n",
    "words = set()\n",
    "for i in train_data:\n",
    "    sent_arr = set(preprocess(i['tweet']))\n",
    "    if len(sent_arr) == 0:\n",
    "        print(i['tweet'])\n",
    "        train_data.remove(i)\n",
    "        continue\n",
    "    words = words | sent_arr\n",
    "\n",
    "\n",
    "\n",
    "words = [\"\",\"UNK\"]+list(words)\n",
    "print(len(words))"
   ]
  },
  {
   "cell_type": "code",
   "execution_count": 11,
   "metadata": {},
   "outputs": [],
   "source": [
    "# from collections import Counter\n",
    "# train_data =load_data(\"train.json\")\n",
    "# counts = Counter()\n",
    "# for i in train_data:\n",
    "#     sent_arr = (preprocess(i['tweet']))\n",
    "#     if len(sent_arr) == 0:\n",
    "#         print(i['tweet'])\n",
    "#         train_data.remove(i)\n",
    "#     counts.update(sent_arr)\n",
    "\n",
    "\n",
    "# print(\"num_words before:\",len(counts.keys()))\n",
    "# for word in list(counts):\n",
    "#     if counts[word] < 2:\n",
    "#         del counts[word]\n",
    "# print(\"num_words after:\",len(counts.keys()))\n",
    "# words = [\"\", \"UNK\"]\n",
    "# for word in counts:\n",
    "#     words.append(word)"
   ]
  },
  {
   "cell_type": "code",
   "execution_count": 12,
   "metadata": {},
   "outputs": [
    {
     "name": "stdout",
     "output_type": "stream",
     "text": [
      "ineffective,1171\n",
      "unnecessary,503\n",
      "pharma,889\n",
      "rushed,1031\n",
      "side-effect,2662\n",
      "mandatory,548\n",
      "country,140\n",
      "ingredients,304\n",
      "political,437\n",
      "none,440\n",
      "conspiracy,341\n",
      "religious,45\n"
     ]
    },
    {
     "data": {
      "text/plain": [
       "tensor([0.0347, 0.0809, 0.0458, 0.0394, 0.0153, 0.0742, 0.1356, 0.1338, 0.0931,\n",
       "        0.0924, 0.1193, 0.1356], dtype=torch.float64)"
      ]
     },
     "execution_count": 12,
     "metadata": {},
     "output_type": "execute_result"
    }
   ],
   "source": [
    "from collections import Counter\n",
    "# train_data =load_data(\"train.json\")\n",
    "\n",
    "counts = Counter()\n",
    "for i in train_data:\n",
    "    for k,v in i['labels'].items():\n",
    "            a = []\n",
    "            a.append(k)\n",
    "            counts.update(a)\n",
    "sum = 0 \n",
    "for k,v in counts.items():\n",
    "    print(f\"{k},{v}\")\n",
    "    value = np.clip(v,a_min=300,a_max=None)\n",
    "    # value = v\n",
    "    counts[k] =value\n",
    "    sum+= value\n",
    "weigh_prob= []\n",
    "# for k,v in counts.items():\n",
    "#     print(k,v)\n",
    "for k,v in counts.items():\n",
    "    p =sum/v\n",
    "    weigh_prob.append(p)\n",
    "weight =torch.tensor(weigh_prob)\n",
    "sum_value = torch.sum(weight)\n",
    "\n",
    "# Normalize the tensor so that the sum of its elements is equal to one\n",
    "weight = weight / sum_value\n",
    "weight"
   ]
  },
  {
   "cell_type": "code",
   "execution_count": 13,
   "metadata": {},
   "outputs": [],
   "source": [
    "tag_list=[\"ineffective\",\"unnecessary\",\"pharma\",\"rushed\",\"side-effect\",\"mandatory\",\"country\",\"ingredients\",\"political\",\"none\",\"conspiracy\",\"religious\"]\n",
    "tag_to_idx={}\n",
    "for i in range(len(tag_list)):\n",
    "    tag_to_idx[tag_list[i]]=i"
   ]
  },
  {
   "cell_type": "code",
   "execution_count": 14,
   "metadata": {},
   "outputs": [
    {
     "data": {
      "text/plain": [
       "10716"
      ]
     },
     "execution_count": 14,
     "metadata": {},
     "output_type": "execute_result"
    }
   ],
   "source": [
    "vocab2idx = {k:v for v,k in enumerate(words)}\n",
    "vocab_size = len(words)\n",
    "vocab_size"
   ]
  },
  {
   "cell_type": "code",
   "execution_count": 15,
   "metadata": {},
   "outputs": [],
   "source": [
    "def load_glove_vectors(glove_file=\"glove.42B.300d.txt\"):\n",
    "    word_vectors = {}\n",
    "    with open(glove_file) as f:\n",
    "        for line in f :\n",
    "            s = line.split(' ')\n",
    "            word_vectors[s[0]] = np.array([float(x) for x in s[1:]])\n",
    "    return word_vectors"
   ]
  },
  {
   "cell_type": "code",
   "execution_count": 16,
   "metadata": {},
   "outputs": [],
   "source": [
    "def get_emb_matrix(pretained,words,emb_size=300):\n",
    "    W = np.zeros((len(words),emb_size),dtype=\"float32\")\n",
    "    W[0] = np.zeros(emb_size,dtype=\"float32\")\n",
    "    W[1] = np.random.uniform(-0.25,0.25,emb_size)\n",
    "    i = 2\n",
    "    count = 0 \n",
    "    no_use = []\n",
    "    for word in words[2:]:\n",
    "        if word in pretained:\n",
    "            W[i] = pretained[word]\n",
    "            count +=1\n",
    "        else:\n",
    "            W[i] =  np.random.uniform(-0.25,0.25,emb_size)\n",
    "            no_use.append(word)\n",
    "        i+=1\n",
    "    rate = count/len(words)\n",
    "    print(\"coverage rate: \" ,round(rate, 4))\n",
    "    print(no_use)\n",
    "    print(len(no_use))\n",
    "    return W"
   ]
  },
  {
   "cell_type": "code",
   "execution_count": 17,
   "metadata": {},
   "outputs": [
    {
     "name": "stdout",
     "output_type": "stream",
     "text": [
      "Character: ·, Unicode Code: 0xb7\n"
     ]
    }
   ],
   "source": [
    "# test for some special unicode\n",
    "punctuation = \"·\"\n",
    "\n",
    "for char in punctuation:\n",
    "    unicode_code = ord(char)\n",
    "    print(f\"Character: {char}, Unicode Code: {hex(unicode_code)}\")"
   ]
  },
  {
   "cell_type": "code",
   "execution_count": 18,
   "metadata": {},
   "outputs": [
    {
     "name": "stdout",
     "output_type": "stream",
     "text": [
      "coverage rate:  0.9619\n",
      "['countiune', 'bourlanot', 'livehood', 'illaria', 'vaxxers', 'hesitants', 'covidhoax', 'weirddddd', 'adiuvants', 'ginuea', 'childtem', 'clynick', 'bullthis', 'adment', 'extg', 'relibility', 'trumpwill', 'waxxed', 'funvax', 'umsuzwane', 'cominarty', 'drumps', 'drumph', 'covfefe', 'vanhi', 'surgisphere', 'unvaxxed', 'zenaca', 'vaxine', 'inru', 'whadduh', 'noorse', 'itlikehe', 'legalðical', 'sincehow', 'prention', 'sunak', 'sokolka', 'brexiteers', 'dyatt', 'thsts', 'fdacber', 'covishield', 'nanoparticules', 'vaxies', 'lemaooo', 'hudroxychloroquine', 'superspreaders', 'danielauhlig', 'elens', 'vqccine', 'vaxxx', 'sollisch', 'phillipot', 'attentuated', 'bionrech', 'youtrumpsters', 'casedemic', 'covac', 'luciferease', 'coronavac', 'intereferes', 'nutsnuts', 'safetyðical', 'cgtn', 'digong', 'authoritans', 'scamdemic', 'covice', 'pisazz', 'triggernometry', 'asymtomatic', 'reinfects', 'oxford–astrazeneca', 'kunyiwe', 'compromisseddemorats', 'andmuskrat', 'toxicvaccines', 'testto', 'drjune', 'usenewsatw', 'haarsh', 'vaice', 'eeiriely', 'thegot', 'assymptomatic', 'schoub', 'covaxin', 'veklury', 'lockdowned', 'anycsheriffsgt', 'chadox', 'postinfxn', 'pawokes', 'cormorabities', 'yeaes', 'tenderfor', 'vachabayiwa', 'ambulated', 'sthafrican', 'zuckie', 'woudn', 'vasculotropic', 'yativ', 'brexit', 'trudick', 'adnmitted', 'neuralink', 'yellowshits', 'youbube', 'plandemic', 'smartbugs', 'vacinne', 'itwa', 'biontect', 'epidemiolgy', 'bukholm', 'standardnorway', 'symptomns', 'vaxxing', 'antiechrist', 'vaxer', 'quickerjust', 'ventillators', 'noninfluenza', 'hockerz', 'billygates', 'greatgameindia', 'healfhy', 'hypercarbic', 'inmunity', 'vaccinethe', 'permanate', 'biontec', 'citokine', 'scomo', 'kazarek', 'nervtag', 'bhabiji', 'covishiield', 'vaxxed', 'pelosy', 'palachook', 'blotus', 'rēset', 'waydayaknow', 'vacunal', 'vacinnes', 'coyldve', 'agenca', 'griffter', 'vachina', 'syncitin', 'fuxake', 'scareduck', 'nguwani', 'noorchashm', 'unaproved', 'timesco', 'torydom', 'porksitan', 'trialees', 'faucy', 'hoaxe', 'clickbait', 'immuneo', 'c°', 'untrialled', 'personanymoreyou', 'adrenalchrome', 'andhighly', 'astrozeneca', 'disputab', 'minoritie', 'vacclne', 'sonfi', 'bitchute', 'trumpsters', 'mnra', 'reasd', 'covid–', 'antivaxer', 'ivectermin', 'modrna', 'facui', 'covax', 'sucharit', 'pharmacidal', 'istampered', 'purposefylly', 'preclinicals', 'sterelize', 'profitspeople', 'monehhh', 'diarrhoering', 'tegnell', 'recations', 'fauxi', 'buahahahahaah', 'scamdemicgoal', 'poef', 'paikot', 'yoyoshandro', 'sinovab', 'epochtimesusnews', 'solante', 'railled', 'vaxzevria', 'agolf', 'vanhu', 'syncytin', 'yeardon', 'azilime', 'valneva', 'doncovfefe', 'tяump', 'aforemost', 'phrama', 'stopworldcontroldotcom', 'healthcanada', 'arutzsheva', 'messengerrna', 'curevac', 'unsplash', 'subversed', 'covashield', 'respiratoryfailure', 'potentually', 'cvsts', 'biontech', 'experitment', 'remdisivir', 'biotect', 'mengelle', 'mabmia', 'ituturo', 'zeneka', 'vaxxer', 'instructiins', 'repored', 'sufferersbecause', 'atmanirbhar', '°c', 'goingnto', '¬', 'antivaxxer', 'sadrzadeh', 'trumpys', 'juses', 'bntx', 'grijns', 'deepstate', 'bouima', 'astrazenica', 'bhakdi', 'qanon', 'immunsystems', 'overamplified', 'ofadverse', 'covidiot', 'astrazeneka', 'vaerd', 'prollys', 'exsposing', 'vaccer', 'loonnng', 'turiaco', 'vacccination', 'theoryfuck', 'ikutin', 'guillain–barré', 'vaccineshas', 'itsmall', 'ziyetsheni', 'vaccinationns', 'diedrate', 'neutraul', 'pyzer', 'trgedy', 'pilbright', 'hosakta', 'norha', 'robertfkennedyjr', 'inferti', 'placibos', 'reactogenic', 'wappies', 'interviewie', 'aaaaaaandwait', 'certainately', 'yellowtards', 'governemtbsanctions', 'frankenshots', 'chywanprash', 'manpfizer', 'morderna', 'plalying', 'catastrophicaly', 'trools', 'provaxxer', 'meaww', 'productwhich', 'phiezer', 'overflating', 'goldpot', 'zoflot', 'spreadvirus', 'undertested', 'kurill', 'nanonbots', 'depersoned', 'damageone', 'speeeeeed', 'mandatoey', 'nanofilaments', 'covid', 'untrialed', 'morenda', 'succussfully', 'ccpvirus', 'brexitier', 'vaccined', 'hydrochloroquine', 'sphithiphithi', 'asrtazeneca', 'sterilizating', 'mapabusong', 'corronavirus', 'bigfarm', 'yoyohinshaw', 'disabilitities', 'indicriminately', 'astrazenca', 'grundvig', 'covaxine', 'remdesivir', 'covix', 'inoz', 'granfathers', 'comirnaty', 'issyahipuma', 'covidiots', 'stabelizer', 'sciencyists', 'jvci', 'vaxx', 'orestar', 'tvthere', 'caumes', 'conscientize', 'eficacy', 'nonidentified', 'foetel', 'pharmedia', 'mneongreen', 'acruri', 'pfizer−biontech', 'waaaarp', 'azanediyl', 'novichok', 'humantissues', 'vaccineso', 'sagarmediainc', 'licesing', 'bolshivism', 'vaccitech', 'inpfizer', 'amerifat', 'mintnorway', 'peridcarditis', 'hydroxychlorine', 'vaxxes', 'covshield', 'coolaide', 'hexyldecanoate', 'yearq', 'havecoveredup', 'epidemologist', 'fauchi', 'kakapagod', 'drugsafetyofficers', 'guneapig', 'stepgran', 'niffle', 'vaccinehas', 'astrazenneka', 'vaxxine', 'mrba', 'dengvaxia', 'unfrickingbelievable', 'vacciner', 'eudra', 'cassper', 'careuk', 'wionews', 'todayeveryday', 'govm', 'waydoyaknow', 'thundercunts', 'desths', 'expotential', 'cricitizenthe', 'yearsl', 'sarbecovirus', 'moskvitches', 'unfully']\n",
      "406\n"
     ]
    }
   ],
   "source": [
    "import joblib\n",
    "word_vecs = load_glove_vectors()\n",
    "pretrain_weights = get_emb_matrix(word_vecs,words,300)\n",
    "# joblib.dump(pretrain_weights, 'pretrain.pkl')"
   ]
  },
  {
   "cell_type": "code",
   "execution_count": 19,
   "metadata": {},
   "outputs": [],
   "source": [
    "\n",
    "\n",
    "class CustomDataset(Dataset):\n",
    "    def __init__(self,data, tokenizer,max_length,words):\n",
    "        self.data = data \n",
    "        self.tokenizer = tokenizer\n",
    "        self.max_length = max_length\n",
    "        self.words = words\n",
    "\n",
    "    def __len__(self):\n",
    "        return len(self.data)\n",
    "    def __getitem__(self, index) :\n",
    "        tweet = self.data[index][\"tweet\"]\n",
    "        labels = self.data[index][\"labels\"]\n",
    "        encode_text = self.encode(tweet,self.words)\n",
    "        encode_label = self.label_encoded(labels)\n",
    "        seq_len = np.count_nonzero(encode_text)\n",
    "        # seq_len = len(encode_text)\n",
    "        return encode_text , encode_label , seq_len\n",
    "    def encode(self,text,vocab2idx):\n",
    "        token = self.tokenizer(text)\n",
    "        encoded = np.zeros(self.max_length,dtype=int)\n",
    "        enc1 = np.array([vocab2idx.get(word,vocab2idx[\"UNK\"]) for word in token] )\n",
    "        # print(enc1.shape)\n",
    "        length = min(self.max_length,len(enc1))\n",
    "        encoded[:length] = enc1[:length]\n",
    "        \n",
    "        return encoded \n",
    "    def label_encoded(self,labels):\n",
    "        encode_label = np.zeros(12,dtype=int)\n",
    "        list_label = list(labels.keys())\n",
    "        for i in list_label:\n",
    "            idx = tag_to_idx[i]\n",
    "            encode_label[idx] = 1\n",
    "        # encode_label = torch.LongTensor(encode_label)\n",
    "        return encode_label "
   ]
  },
  {
   "cell_type": "code",
   "execution_count": 20,
   "metadata": {},
   "outputs": [],
   "source": [
    "max_length = 300\n",
    "train_data = CustomDataset(train_data,preprocess,max_length,vocab2idx)\n",
    "train_loader = DataLoader(train_data,batch_size=32)"
   ]
  },
  {
   "cell_type": "code",
   "execution_count": 21,
   "metadata": {},
   "outputs": [
    {
     "name": "stdout",
     "output_type": "stream",
     "text": [
      "{'ID': '1397651228679675907', 'tweet': '      ', 'labels': {'none': [{'index': 0, 'start': 0, 'end': 1, 'terms': '@HHSGov'}]}}\n"
     ]
    }
   ],
   "source": [
    "val_data =load_data('val.json')\n",
    "for i in val_data:\n",
    "    sent_arr = set(preprocess(i['tweet']))\n",
    "    if len(sent_arr) == 0:\n",
    "        print(i)\n",
    "        val_data.remove(i)\n",
    "        continue\n",
    "val_data = CustomDataset(val_data,preprocess,max_length,vocab2idx)\n",
    "val_dataloader = DataLoader(val_data,batch_size=1)"
   ]
  },
  {
   "cell_type": "code",
   "execution_count": 22,
   "metadata": {},
   "outputs": [
    {
     "name": "stdout",
     "output_type": "stream",
     "text": [
      "Now is using cuda device\n"
     ]
    }
   ],
   "source": [
    "device = \"cuda\" if torch.cuda.is_available() else \"cpu\"\n",
    "print(f\"Now is using {device} device\")"
   ]
  },
  {
   "cell_type": "code",
   "execution_count": 23,
   "metadata": {},
   "outputs": [],
   "source": [
    "import torch.nn.functional as F\n",
    "class SpatialDropout(nn.Dropout2d):\n",
    "    def forward(self, x):\n",
    "        x = x.unsqueeze(2)    # (N, T, 1, K)\n",
    "        x = x.permute(0, 3, 2, 1)  # (N, K, 1, T)\n",
    "        x = super(SpatialDropout, self).forward(x)  # (N, K, 1, T), some features are masked\n",
    "        x = x.permute(0, 3, 2, 1)  # (N, T, 1, K)\n",
    "        x = x.squeeze(2)  # (N, T, K)\n",
    "        return x\n",
    "\n",
    "class pretrain_weight_LSTM(nn.Module):\n",
    "    def __init__(self, vocab_size, embedding_dim,hidden_dim,pretrain_weights,bidirectional,dropout_rate=0.6) :\n",
    "        super().__init__()\n",
    "        self.hidden_dim = hidden_dim\n",
    "        # Embedding\n",
    "        self.embeddings = nn.Embedding(vocab_size,embedding_dim,padding_idx=0)\n",
    "        self.embeddings.weight.data.copy_(torch.from_numpy(pretrain_weights))\n",
    "        self.embeddings.weight.requires_grad = True \n",
    "        \n",
    "        self.lstm = nn.LSTM(embedding_dim,hidden_dim,num_layers=1,bidirectional=bidirectional,batch_first=True)\n",
    "        self.embedding_dropout = SpatialDropout(dropout_rate)\n",
    "        self.relu = nn.ReLU()\n",
    "        self.tanh = nn.Tanh()\n",
    "        h = int(hidden_dim*3)\n",
    "        self.fc1 = nn.Linear(in_features=hidden_dim*2,out_features=h)\n",
    "        self.droupt1 = nn.Dropout(dropout_rate)\n",
    "        self.fc2 = nn.Linear(h,12)\n",
    "        self.droupt2 = nn.Dropout(dropout_rate)\n",
    "\n",
    "\n",
    "        # Attention layer weight\n",
    "        self.w_omega = nn.Parameter(torch.Tensor(hidden_dim*2,hidden_dim*2))\n",
    "        self.u_omega = nn.Parameter(torch.Tensor(hidden_dim*2,1))\n",
    "        self.word_bias = nn.Parameter(torch.Tensor(1, 2 * hidden_dim))\n",
    "\n",
    "        # Uniform attention layer parameter weight by xavier\n",
    "        nn.init.xavier_uniform_(self.w_omega)\n",
    "        nn.init.xavier_uniform_(self.u_omega)\n",
    "    def forward(self,x,s):\n",
    "        # Word embeeding\n",
    "        embeed = self.embeddings(x)\n",
    "        embeed = self.embedding_dropout(embeed)\n",
    "        # lstm\n",
    "        x_pack = pack_padded_sequence(embeed,s.to('cpu'),batch_first=True, enforce_sorted=False)\n",
    "        pack_out , (ht,ct) = self.lstm(x_pack)\n",
    "        x,length =pad_packed_sequence(pack_out, batch_first=True)\n",
    "\n",
    "        # attention Layer\n",
    "        u = torch.tanh(torch.matmul(x,self.w_omega)+self.word_bias)\n",
    "        att = torch.matmul(u,self.u_omega)\n",
    "        att_score = F.softmax(att,dim=1)\n",
    "        score_x = x*att_score\n",
    "        ht = torch.sum(score_x,dim=1)\n",
    "        ht = self.tanh(ht)\n",
    "        # FC layer\n",
    "        # ht = torch.cat((ht[-2,:,:], ht[-1,:,:]), dim = 1)\n",
    "        out = self.droupt1(ht)\n",
    "        out = self.fc1(out)\n",
    "        out = self.relu(out)\n",
    "        out = self.droupt2(out)\n",
    "        out = self.fc2(out)\n",
    "        return out ,att_score"
   ]
  },
  {
   "cell_type": "code",
   "execution_count": 24,
   "metadata": {},
   "outputs": [],
   "source": [
    "def train(dataloader,model,loss_fn,optimizer):\n",
    "    size = len(dataloader.dataset)\n",
    "    model.train()\n",
    "    for batch , (X,y,seq) in enumerate(dataloader):\n",
    "        X,y =X.to(device),y.to(device,dtype=torch.float)\n",
    "        # print(seq)\n",
    "        pred ,attention= model(X,seq)\n",
    "        # print(pred.dtype)\n",
    "        loss = loss_fn(pred,y)\n",
    "        optimizer.zero_grad()\n",
    "        loss.backward()\n",
    "        optimizer.step()\n",
    "        if batch%200 ==0:\n",
    "            loss,curr = loss.item() , batch * len(X)\n",
    "            print(f\"loss: {loss:>7f} [{curr:>5d}/{size:>5d}]\")\n",
    "    return attention"
   ]
  },
  {
   "cell_type": "code",
   "execution_count": 25,
   "metadata": {},
   "outputs": [],
   "source": [
    "def evalute(dataloader,model,loss_fn):\n",
    "    model.eval()\n",
    "    y_pred = []\n",
    "    y_target = []\n",
    "    with torch.no_grad():\n",
    "        for X,y,seq in dataloader:\n",
    "            X,y = X.to(device) , y.to(device,dtype=torch.float)\n",
    "            pred ,attention= model(X,seq)\n",
    "            y_pred.extend(torch.sigmoid(pred).cpu().detach().numpy().tolist())\n",
    "            y_target.extend(y.cpu().detach().numpy().tolist())\n",
    "    y_preds = (np.array(y_pred)>0.5).astype(int)\n",
    "    marco_f1= f1_score(y_target,y_preds,average='macro')\n",
    "    print(\"marco f1 score : \",marco_f1)\n",
    "    return marco_f1"
   ]
  },
  {
   "cell_type": "code",
   "execution_count": 26,
   "metadata": {},
   "outputs": [],
   "source": [
    "def model_function(bidirectional,embedding_dim,hidden_dim,epochs,weight,weight_path):\n",
    "    model_2 = pretrain_weight_LSTM(vocab_size,embedding_dim,hidden_dim,pretrain_weights,bidirectional).to(device)\n",
    "    if weight == None:\n",
    "        loss_fn = nn.BCEWithLogitsLoss()\n",
    "    else:\n",
    "        loss_fn = nn.BCEWithLogitsLoss(weight=weight)\n",
    "    optimizer = torch.optim.Adam(model_2.parameters(),lr=8e-4)\n",
    "    max_score = 0 \n",
    "    for t in range(epochs):\n",
    "        print(f\"Epoch {t+1}\\n-----------------------\")\n",
    "        attention = train(train_loader,model_2,loss_fn,optimizer)\n",
    "        score = evalute(val_dataloader,model_2,loss_fn)\n",
    "        # print(f\"max score in {t+1} epoch : \",score)\n",
    "        if score > max_score:\n",
    "            max_score =score\n",
    "            path = weight_path\n",
    "            torch.save(model_2.state_dict(),path)\n",
    "            print('save model')\n",
    "    print(\"best score: \" ,max_score)\n",
    "    return model_2,attention"
   ]
  },
  {
   "cell_type": "code",
   "execution_count": 27,
   "metadata": {},
   "outputs": [],
   "source": [
    "# Hyper parameter\n",
    "bidirectional = True\n",
    "embedding_dim = 300\n",
    "hidden_dim = 64*5\n",
    "epochs = 30\n",
    "# weight = weight.to(device)\n",
    "weight =None"
   ]
  },
  {
   "cell_type": "code",
   "execution_count": 28,
   "metadata": {},
   "outputs": [
    {
     "name": "stdout",
     "output_type": "stream",
     "text": [
      "Epoch 1\n",
      "-----------------------\n"
     ]
    },
    {
     "name": "stdout",
     "output_type": "stream",
     "text": [
      "loss: 0.691091 [    0/ 6955]\n",
      "loss: 0.224145 [ 6400/ 6955]\n",
      "marco f1 score :  0.06445115810674723\n",
      "save model\n",
      "Epoch 2\n",
      "-----------------------\n",
      "loss: 0.286297 [    0/ 6955]\n",
      "loss: 0.198416 [ 6400/ 6955]\n",
      "marco f1 score :  0.2274333108095453\n",
      "save model\n",
      "Epoch 3\n",
      "-----------------------\n",
      "loss: 0.246973 [    0/ 6955]\n",
      "loss: 0.217835 [ 6400/ 6955]\n",
      "marco f1 score :  0.3558912436052402\n",
      "save model\n",
      "Epoch 4\n",
      "-----------------------\n",
      "loss: 0.190965 [    0/ 6955]\n",
      "loss: 0.180663 [ 6400/ 6955]\n",
      "marco f1 score :  0.42232914795293947\n",
      "save model\n",
      "Epoch 5\n",
      "-----------------------\n",
      "loss: 0.195355 [    0/ 6955]\n",
      "loss: 0.201576 [ 6400/ 6955]\n",
      "marco f1 score :  0.4771359888090924\n",
      "save model\n",
      "Epoch 6\n",
      "-----------------------\n",
      "loss: 0.153664 [    0/ 6955]\n",
      "loss: 0.159435 [ 6400/ 6955]\n",
      "marco f1 score :  0.5149387028280817\n",
      "save model\n",
      "Epoch 7\n",
      "-----------------------\n",
      "loss: 0.128814 [    0/ 6955]\n",
      "loss: 0.136494 [ 6400/ 6955]\n",
      "marco f1 score :  0.5150551433635039\n",
      "save model\n",
      "Epoch 8\n",
      "-----------------------\n",
      "loss: 0.122493 [    0/ 6955]\n",
      "loss: 0.127874 [ 6400/ 6955]\n",
      "marco f1 score :  0.502497046356491\n",
      "Epoch 9\n",
      "-----------------------\n",
      "loss: 0.114374 [    0/ 6955]\n",
      "loss: 0.149548 [ 6400/ 6955]\n",
      "marco f1 score :  0.5219283173647975\n",
      "save model\n",
      "Epoch 10\n",
      "-----------------------\n",
      "loss: 0.117765 [    0/ 6955]\n",
      "loss: 0.126059 [ 6400/ 6955]\n",
      "marco f1 score :  0.6027566513902266\n",
      "save model\n",
      "Epoch 11\n",
      "-----------------------\n",
      "loss: 0.072648 [    0/ 6955]\n",
      "loss: 0.144074 [ 6400/ 6955]\n",
      "marco f1 score :  0.5848451318414843\n",
      "Epoch 12\n",
      "-----------------------\n",
      "loss: 0.085950 [    0/ 6955]\n",
      "loss: 0.107473 [ 6400/ 6955]\n",
      "marco f1 score :  0.6076939456536113\n",
      "save model\n",
      "Epoch 13\n",
      "-----------------------\n",
      "loss: 0.085622 [    0/ 6955]\n",
      "loss: 0.108222 [ 6400/ 6955]\n",
      "marco f1 score :  0.6138081910453735\n",
      "save model\n",
      "Epoch 14\n",
      "-----------------------\n",
      "loss: 0.056071 [    0/ 6955]\n",
      "loss: 0.085940 [ 6400/ 6955]\n",
      "marco f1 score :  0.6064806076025683\n",
      "Epoch 15\n",
      "-----------------------\n",
      "loss: 0.063332 [    0/ 6955]\n",
      "loss: 0.098077 [ 6400/ 6955]\n",
      "marco f1 score :  0.620179642532979\n",
      "save model\n",
      "Epoch 16\n",
      "-----------------------\n",
      "loss: 0.074050 [    0/ 6955]\n",
      "loss: 0.077710 [ 6400/ 6955]\n",
      "marco f1 score :  0.6070549220831154\n",
      "Epoch 17\n",
      "-----------------------\n",
      "loss: 0.079042 [    0/ 6955]\n",
      "loss: 0.085601 [ 6400/ 6955]\n",
      "marco f1 score :  0.6173355936697958\n",
      "Epoch 18\n",
      "-----------------------\n",
      "loss: 0.066625 [    0/ 6955]\n",
      "loss: 0.068828 [ 6400/ 6955]\n",
      "marco f1 score :  0.6057464140274226\n",
      "Epoch 19\n",
      "-----------------------\n",
      "loss: 0.028809 [    0/ 6955]\n",
      "loss: 0.072371 [ 6400/ 6955]\n",
      "marco f1 score :  0.6005510259200111\n",
      "Epoch 20\n",
      "-----------------------\n",
      "loss: 0.045692 [    0/ 6955]\n",
      "loss: 0.042572 [ 6400/ 6955]\n",
      "marco f1 score :  0.617219147334653\n",
      "Epoch 21\n",
      "-----------------------\n",
      "loss: 0.043088 [    0/ 6955]\n",
      "loss: 0.040390 [ 6400/ 6955]\n",
      "marco f1 score :  0.615647484271359\n",
      "Epoch 22\n",
      "-----------------------\n",
      "loss: 0.056833 [    0/ 6955]\n",
      "loss: 0.040828 [ 6400/ 6955]\n",
      "marco f1 score :  0.6218923065959316\n",
      "save model\n",
      "Epoch 23\n",
      "-----------------------\n",
      "loss: 0.027957 [    0/ 6955]\n",
      "loss: 0.064578 [ 6400/ 6955]\n",
      "marco f1 score :  0.607590141363236\n",
      "Epoch 24\n",
      "-----------------------\n",
      "loss: 0.060374 [    0/ 6955]\n",
      "loss: 0.058812 [ 6400/ 6955]\n",
      "marco f1 score :  0.6018894656109177\n",
      "Epoch 25\n",
      "-----------------------\n",
      "loss: 0.055179 [    0/ 6955]\n",
      "loss: 0.048011 [ 6400/ 6955]\n",
      "marco f1 score :  0.6078195568741999\n",
      "Epoch 26\n",
      "-----------------------\n",
      "loss: 0.041956 [    0/ 6955]\n",
      "loss: 0.050207 [ 6400/ 6955]\n",
      "marco f1 score :  0.6124599952665591\n",
      "Epoch 27\n",
      "-----------------------\n",
      "loss: 0.043495 [    0/ 6955]\n",
      "loss: 0.047138 [ 6400/ 6955]\n",
      "marco f1 score :  0.6132469355628126\n",
      "Epoch 28\n",
      "-----------------------\n",
      "loss: 0.032576 [    0/ 6955]\n",
      "loss: 0.051018 [ 6400/ 6955]\n",
      "marco f1 score :  0.6103040202845803\n",
      "Epoch 29\n",
      "-----------------------\n",
      "loss: 0.033121 [    0/ 6955]\n",
      "loss: 0.038624 [ 6400/ 6955]\n",
      "marco f1 score :  0.6106536449116003\n",
      "Epoch 30\n",
      "-----------------------\n",
      "loss: 0.018498 [    0/ 6955]\n",
      "loss: 0.021145 [ 6400/ 6955]\n",
      "marco f1 score :  0.6242420959051164\n",
      "save model\n",
      "best score:  0.6242420959051164\n"
     ]
    }
   ],
   "source": [
    "weight_path = \"./w_weight2.pth\"\n",
    "model_2,attention=model_function(bidirectional,embedding_dim,hidden_dim,epochs,weight,weight_path)"
   ]
  },
  {
   "cell_type": "code",
   "execution_count": 29,
   "metadata": {},
   "outputs": [],
   "source": [
    "class testDataset(Dataset):\n",
    "    def __init__(self,data, tokenizer,max_length,words):\n",
    "        self.data = data \n",
    "        self.tokenizer = tokenizer\n",
    "        self.max_length = max_length\n",
    "        self.words = words\n",
    "\n",
    "    def __len__(self):\n",
    "        return len(self.data)\n",
    "    def __getitem__(self, index) :\n",
    "        tweet = self.data[index][\"tweet\"]\n",
    "        encode_text = self.encode(tweet,self.words)\n",
    "        seq_len = np.count_nonzero(encode_text)\n",
    "        return encode_text  , seq_len\n",
    "    def encode(self,text,vocab2idx):\n",
    "        token = self.tokenizer(text)\n",
    "        encoded = np.zeros(self.max_length,dtype=int)\n",
    "        enc1 = np.array([vocab2idx.get(word,vocab2idx[\"UNK\"]) for word in token] )\n",
    "        # print(enc1.shape)\n",
    "        length = min(self.max_length,len(enc1))\n",
    "        encoded[:length] = enc1[:length]\n",
    "        return encoded "
   ]
  },
  {
   "cell_type": "code",
   "execution_count": 30,
   "metadata": {},
   "outputs": [],
   "source": [
    "test_data = load_data(\"test.json\")\n",
    "test_data = testDataset(test_data,preprocess,max_length,vocab2idx)\n",
    "test_loader = DataLoader(test_data,batch_size=1)"
   ]
  },
  {
   "cell_type": "code",
   "execution_count": 31,
   "metadata": {},
   "outputs": [],
   "source": [
    "path = './w_weight2.pth'\n",
    "model_2 = pretrain_weight_LSTM(vocab_size,embedding_dim,hidden_dim,pretrain_weights,bidirectional).to(device)\n",
    "model_2.load_state_dict(torch.load(path))\n",
    "model_2.eval()\n",
    "y_pred = []\n",
    "with torch.no_grad():\n",
    "    for x,seq_len in test_loader:\n",
    "        x = x.to(device)\n",
    "        pred ,attention= model_2(x,seq_len)\n",
    "        y_pred.extend(torch.sigmoid(pred).cpu().detach().numpy().tolist())"
   ]
  },
  {
   "cell_type": "code",
   "execution_count": 32,
   "metadata": {},
   "outputs": [
    {
     "data": {
      "text/plain": [
       "array([[0, 0, 0, ..., 0, 0, 0],\n",
       "       [0, 1, 1, ..., 0, 0, 0],\n",
       "       [1, 0, 0, ..., 0, 0, 0],\n",
       "       ...,\n",
       "       [0, 0, 0, ..., 0, 0, 0],\n",
       "       [0, 1, 1, ..., 0, 0, 0],\n",
       "       [0, 0, 0, ..., 0, 0, 0]])"
      ]
     },
     "execution_count": 32,
     "metadata": {},
     "output_type": "execute_result"
    }
   ],
   "source": [
    "y_preds = (np.array(y_pred) > 0.5).astype(int)\n",
    "y_preds"
   ]
  },
  {
   "cell_type": "code",
   "execution_count": 33,
   "metadata": {},
   "outputs": [],
   "source": [
    "df = pd.DataFrame(y_preds, columns=tag_list)\n",
    "df_reset = df.reset_index()\n",
    "# print(df_reset.head())"
   ]
  },
  {
   "cell_type": "code",
   "execution_count": 34,
   "metadata": {},
   "outputs": [],
   "source": [
    "data_rows = df_reset.to_dict(orient='records')"
   ]
  },
  {
   "cell_type": "code",
   "execution_count": 35,
   "metadata": {},
   "outputs": [],
   "source": [
    "import csv\n",
    "with open(\"submission.csv\", 'w', newline='') as csvfile:\n",
    "    fieldnames=[\"index\",\"ineffective\",\"unnecessary\",\"pharma\",\"rushed\",\"side-effect\",\"mandatory\",\"country\",\"ingredients\",\"political\",\"none\",\"conspiracy\",\"religious\"]\n",
    "    writer = csv.DictWriter(csvfile, fieldnames=fieldnames)\n",
    "    writer.writeheader()\n",
    "    writer.writerows(data_rows)"
   ]
  }
 ],
 "metadata": {
  "kernelspec": {
   "display_name": "vst",
   "language": "python",
   "name": "python3"
  },
  "language_info": {
   "codemirror_mode": {
    "name": "ipython",
    "version": 3
   },
   "file_extension": ".py",
   "mimetype": "text/x-python",
   "name": "python",
   "nbconvert_exporter": "python",
   "pygments_lexer": "ipython3",
   "version": "3.8.18"
  }
 },
 "nbformat": 4,
 "nbformat_minor": 2
}
