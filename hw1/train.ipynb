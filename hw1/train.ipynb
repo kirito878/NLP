{
 "cells": [
  {
   "cell_type": "code",
   "execution_count": 1,
   "metadata": {},
   "outputs": [
    {
     "name": "stderr",
     "output_type": "stream",
     "text": [
      "[nltk_data] Downloading package stopwords to\n",
      "[nltk_data]     /home/wujh1123/nltk_data...\n",
      "[nltk_data]   Package stopwords is already up-to-date!\n",
      "[nltk_data] Downloading package wordnet to /home/wujh1123/nltk_data...\n",
      "[nltk_data]   Package wordnet is already up-to-date!\n"
     ]
    }
   ],
   "source": [
    "import os\n",
    "import torch\n",
    "from torch import nn\n",
    "import torchtext\n",
    "from torchtext.data import get_tokenizer\n",
    "import numpy as np\n",
    "import pandas as pd\n",
    "import json\n",
    "from torch.utils.data import Dataset , DataLoader\n",
    "\n",
    "import nltk \n",
    "nltk.download('stopwords')\n",
    "nltk.download('wordnet')\n",
    "\n",
    "from nltk.corpus import stopwords\n",
    "from nltk.tokenize import word_tokenize\n",
    "import re\n",
    "import string\n",
    "\n",
    "from nltk.stem import WordNetLemmatizer"
   ]
  },
  {
   "cell_type": "code",
   "execution_count": 2,
   "metadata": {},
   "outputs": [],
   "source": [
    "def clean_text(text):\n",
    "    '''Make text lowercase, remove text in square brackets,remove links,remove punctuation\n",
    "    and remove words containing numbers.'''\n",
    "    text = str(text).lower()\n",
    "    text = re.sub(r\"(?:\\@)\\S+\", \"\", text)\n",
    "    text = re.sub(r\"(?:\\#)\\S+\", \"\", text)\n",
    "    pun = re.compile(\"[\" u\"\\u2014\" u\"\\u2019\" u\"\\u00a3\" u\"\\u20ac\" \"\\u00b4\" \"]+\",re.UNICODE)\n",
    "    text = re.sub(pun, ' ', text)\n",
    "    text = re.sub('\\[.*?\\]', '', text)\n",
    "    text = re.sub('https?://\\S+|www\\.\\S+', '', text)\n",
    "    text = re.sub('<.*?>+', '', text)\n",
    "    text = re.sub('[%s]' % re.escape(string.punctuation), ' ', text)\n",
    "    text = re.sub('\\n', '', text)\n",
    "    text = re.sub('\\w*\\d\\w*', '', text)\n",
    "    return text"
   ]
  },
  {
   "cell_type": "code",
   "execution_count": 3,
   "metadata": {},
   "outputs": [],
   "source": [
    "def remove_emoji(data):\n",
    "    emoj = re.compile(\"[\"\n",
    "        u\"\\U0001F600-\\U0001F64F\"  # emoticons\n",
    "        u\"\\U0001F300-\\U0001F5FF\"  # symbols & pictographs\n",
    "        u\"\\U0001F680-\\U0001F6FF\"  # transport & map symbols\n",
    "        u\"\\U0001F1E0-\\U0001F1FF\"  # flags (iOS)\n",
    "        u\"\\U00002500-\\U00002BEF\"  # chinese char\n",
    "        u\"\\U00002702-\\U000027B0\"\n",
    "        u\"\\U000024C2-\\U0001F251\"\n",
    "        u\"\\U0001f926-\\U0001f937\"\n",
    "        u\"\\U00010000-\\U0010ffff\"\n",
    "        u\"\\u2640-\\u2642\" \n",
    "        u\"\\u2600-\\u2B55\"\n",
    "        u\"\\u200d\"\n",
    "        u\"\\u23cf\"\n",
    "        u\"\\u23e9\"\n",
    "        u\"\\u231a\"\n",
    "        u\"\\ufe0f\"  # dingbats\n",
    "\n",
    "        u\"\\u3030\"\n",
    "        u\"\\u201c\"\n",
    "        u\"\\u201d\"\n",
    "        u\"\\u2049\"\n",
    "        u\"\\ufe0f\"\n",
    "        u\"\\u2026\" \n",
    "        u\"\\u203c\"\n",
    "        u\"\\u2018\"\n",
    "        u\"\\u2066\"\n",
    "        u\"\\u201e\"\n",
    "        u\"\\u200b\"\n",
    "        u\"\\u00d7\"\n",
    "\n",
    "                      \"]+\", re.UNICODE)\n",
    "    return re.sub(emoj, '', data)\n",
    "\n"
   ]
  },
  {
   "cell_type": "code",
   "execution_count": 4,
   "metadata": {},
   "outputs": [],
   "source": [
    "stop_words = stopwords.words('english')\n",
    "def remove_stopwords(text):\n",
    "    text = ' '.join(word for word in text.split(' ') if word not in stop_words)\n",
    "    return text"
   ]
  },
  {
   "cell_type": "code",
   "execution_count": 5,
   "metadata": {},
   "outputs": [],
   "source": [
    "lemmatizer = WordNetLemmatizer()\n",
    "def lem_text(text):\n",
    "    text = ' '.join(lemmatizer.lemmatize(word) for word in text.split(' '))\n",
    "    return text"
   ]
  },
  {
   "cell_type": "code",
   "execution_count": 6,
   "metadata": {},
   "outputs": [],
   "source": [
    "def preprocess(text):\n",
    "    text = clean_text(text)\n",
    "    text = remove_emoji(text)\n",
    "    text = remove_stopwords(text)\n",
    "    text = lem_text(text)\n",
    "    text = text.split()\n",
    "    return text"
   ]
  },
  {
   "cell_type": "code",
   "execution_count": 7,
   "metadata": {},
   "outputs": [
    {
     "name": "stdout",
     "output_type": "stream",
     "text": [
      "['keep', 'vaccine', 'take', 'covid', 'non', 'existent', 'symptom', 'big', 'pharma', 'liability', 'indemnity', 'lab', 'cooked', 'vaccine', 'thank']\n"
     ]
    }
   ],
   "source": [
    "s = \"@4mishee @ScottMorrisonMP can keep his vaccine \\ud83d\\udc89 I\\u2019ll take covid with its \\u201c non existent \\u201c symptoms over some big pharma no liability or indemnity lab \\ud83e\\uddea cooked vaccine thank you.\"\n",
    "t = preprocess(s)\n",
    "print(t)"
   ]
  },
  {
   "cell_type": "code",
   "execution_count": 8,
   "metadata": {},
   "outputs": [],
   "source": [
    "def load_data(path):\n",
    "    with open(path,'r',encoding='utf-8') as file:\n",
    "        data = json.load(file)\n",
    "    # print(len(train_data))\n",
    "    return data"
   ]
  },
  {
   "cell_type": "code",
   "execution_count": 9,
   "metadata": {},
   "outputs": [
    {
     "name": "stdout",
     "output_type": "stream",
     "text": [
      "cant control the Flu\n",
      "infectious diseases\n"
     ]
    }
   ],
   "source": [
    "train_data =load_data(\"train.json\")\n",
    "sent_arr = set(preprocess(train_data[0]['tweet']))\n",
    "for key,value in train_data[0]['labels'].items():\n",
    "    for i in value:\n",
    "        print(i['terms'])\n",
    "   "
   ]
  },
  {
   "cell_type": "code",
   "execution_count": 10,
   "metadata": {},
   "outputs": [],
   "source": [
    "# train_data =load_data(\"train.json\")\n",
    "# words = set()\n",
    "# for i in train_data:\n",
    "#     for k,v in i['labels'].items():\n",
    "#         sent_arr = set(preprocess(i['tweet']))\n",
    "#         if len(sent_arr) == 0:\n",
    "#             print(i['tweet'])\n",
    "#             train_data.remove(i)\n",
    "#             continue        \n",
    "#         for j in v:\n",
    "#             sent_arr = set(preprocess(j['terms']))\n",
    "#             words = words | sent_arr\n",
    "\n",
    "\n",
    "\n",
    "\n",
    "# words = [\"\",\"UNK\"]+list(words)\n",
    "# print(len(words))"
   ]
  },
  {
   "cell_type": "code",
   "execution_count": 11,
   "metadata": {},
   "outputs": [
    {
     "name": "stdout",
     "output_type": "stream",
     "text": [
      "[The Oxford-AstraZeneca vaccine also seems to produce relatively high rates of adverse events. If you want to dig further into this vaccine’s story and issues, I’ve laid out a more detailed rundown of the Oxford-AstraZeneca trials and sources here.] https://t.co/youZFn8KUr\n",
      "10717\n"
     ]
    }
   ],
   "source": [
    "# import spacy\n",
    "# nlp = spacy.load('en_core_web_sm')\n",
    "# tokenizer = get_tokenizer('spacy')\n",
    "train_data =load_data(\"train.json\")\n",
    "words = set()\n",
    "for i in train_data:\n",
    "    sent_arr = set(preprocess(i['tweet']))\n",
    "    if len(sent_arr) == 0:\n",
    "        print(i['tweet'])\n",
    "        train_data.remove(i)\n",
    "        continue\n",
    "    words = words | sent_arr\n",
    "\n",
    "\n",
    "\n",
    "words = [\"\",\"UNK\"]+list(words)\n",
    "print(len(words))"
   ]
  },
  {
   "cell_type": "code",
   "execution_count": 12,
   "metadata": {},
   "outputs": [],
   "source": [
    "# from collections import Counter\n",
    "# train_data =load_data(\"train.json\")\n",
    "# counts = Counter()\n",
    "# for i in train_data:\n",
    "#     sent_arr = (preprocess(i['tweet']))\n",
    "#     if len(sent_arr) == 0:\n",
    "#         print(i['tweet'])\n",
    "#         train_data.remove(i)\n",
    "#     counts.update(sent_arr)\n",
    "\n",
    "\n",
    "# print(\"num_words before:\",len(counts.keys()))\n",
    "# for word in list(counts):\n",
    "#     if counts[word] < 2:\n",
    "#         del counts[word]\n",
    "# print(\"num_words after:\",len(counts.keys()))\n",
    "# words = [\"\", \"UNK\"]\n",
    "# for word in counts:\n",
    "#     words.append(word)"
   ]
  },
  {
   "cell_type": "code",
   "execution_count": 13,
   "metadata": {},
   "outputs": [],
   "source": [
    "# from collections import Counter\n",
    "# train_data =load_data(\"train.json\")\n",
    "\n",
    "# counts = Counter()\n",
    "# for i in train_data:\n",
    "#     for k,v in i['labels'].items():\n",
    "#         sent_arr = set(preprocess(i['tweet']))\n",
    "#         if len(sent_arr) == 0:\n",
    "#             print(i['tweet'])\n",
    "#             train_data.remove(i)\n",
    "#             continue        \n",
    "#         for j in v:\n",
    "#             sent_arr = set(preprocess(j['terms']))\n",
    "#             counts.update(sent_arr)\n",
    "\n",
    "\n",
    "\n",
    "\n",
    "# print(\"num_words before:\",len(counts.keys()))\n",
    "# for word in list(counts):\n",
    "#     if counts[word] < 2:\n",
    "#         del counts[word]\n",
    "# print(\"num_words after:\",len(counts.keys()))\n",
    "# words = [\"\", \"UNK\"]\n",
    "# for word in counts:\n",
    "#     words.append(word)"
   ]
  },
  {
   "cell_type": "code",
   "execution_count": 14,
   "metadata": {},
   "outputs": [
    {
     "name": "stdout",
     "output_type": "stream",
     "text": [
      "Counter({'side-effect': 2662, 'ineffective': 1171, 'rushed': 1031, 'pharma': 889, 'mandatory': 548, 'unnecessary': 503, 'none': 440, 'political': 437, 'conspiracy': 341, 'ingredients': 304, 'country': 140, 'religious': 45})\n"
     ]
    },
    {
     "data": {
      "text/plain": [
       "tensor([0.0181, 0.0420, 0.0238, 0.0205, 0.0079, 0.0386, 0.1511, 0.0696, 0.0484,\n",
       "        0.0481, 0.0620, 0.4700])"
      ]
     },
     "execution_count": 14,
     "metadata": {},
     "output_type": "execute_result"
    }
   ],
   "source": [
    "from collections import Counter\n",
    "# train_data =load_data(\"train.json\")\n",
    "\n",
    "counts = Counter()\n",
    "for i in train_data:\n",
    "    for k,v in i['labels'].items():\n",
    "            a = []\n",
    "            a.append(k)\n",
    "            counts.update(a)\n",
    "sum = 0 \n",
    "for k,v in counts.items():\n",
    "    sum+=v\n",
    "print(counts)\n",
    "weigh_prob= []\n",
    "for k,v in counts.items():\n",
    "    p =sum/v\n",
    "    weigh_prob.append(p)\n",
    "weight =torch.tensor(weigh_prob)\n",
    "sum_value = torch.sum(weight)\n",
    "\n",
    "# Normalize the tensor so that the sum of its elements is equal to one\n",
    "weight = weight / sum_value\n",
    "weight"
   ]
  },
  {
   "cell_type": "code",
   "execution_count": 15,
   "metadata": {},
   "outputs": [],
   "source": [
    "tag_list=[\"ineffective\",\"unnecessary\",\"pharma\",\"rushed\",\"side-effect\",\"mandatory\",\"country\",\"ingredients\",\"political\",\"none\",\"conspiracy\",\"religious\"]\n",
    "tag_to_idx={}\n",
    "for i in range(len(tag_list)):\n",
    "    tag_to_idx[tag_list[i]]=i"
   ]
  },
  {
   "cell_type": "code",
   "execution_count": 16,
   "metadata": {},
   "outputs": [
    {
     "name": "stdout",
     "output_type": "stream",
     "text": [
      "<class 'dict'>\n",
      "{'ineffective': [{'index': 0, 'start': 6, 'end': 10, 'terms': 'cant control the Flu'}, {'index': 1, 'start': 37, 'end': 39, 'terms': 'infectious diseases'}]}\n",
      "['ineffective']\n",
      "4 side-effect\n"
     ]
    }
   ],
   "source": [
    "print(type(train_data[0]['labels']))\n",
    "print(train_data[0]['labels'])\n",
    "print(list(train_data[0]['labels'].keys()))\n",
    "for i in list(train_data[77]['labels'].keys()):\n",
    "    print(tag_to_idx[i],i)"
   ]
  },
  {
   "cell_type": "code",
   "execution_count": 17,
   "metadata": {},
   "outputs": [
    {
     "data": {
      "text/plain": [
       "10717"
      ]
     },
     "execution_count": 17,
     "metadata": {},
     "output_type": "execute_result"
    }
   ],
   "source": [
    "vocab2idx = {k:v for v,k in enumerate(words)}\n",
    "vocab_size = len(words)\n",
    "vocab_size"
   ]
  },
  {
   "cell_type": "code",
   "execution_count": 18,
   "metadata": {},
   "outputs": [],
   "source": [
    "def load_glove_vectors(glove_file=\"glove.42B.300d.txt\"):\n",
    "    word_vectors = {}\n",
    "    with open(glove_file) as f:\n",
    "        for line in f :\n",
    "            s = line.split(' ')\n",
    "            word_vectors[s[0]] = np.array([float(x) for x in s[1:]])\n",
    "    return word_vectors"
   ]
  },
  {
   "cell_type": "code",
   "execution_count": 19,
   "metadata": {},
   "outputs": [],
   "source": [
    "def get_emb_matrix(pretained,words,emb_size=300):\n",
    "    W = np.zeros((len(words),emb_size),dtype=\"float32\")\n",
    "    W[0] = np.zeros(emb_size,dtype=\"float32\")\n",
    "    W[1] = np.random.uniform(-0.25,0.25,emb_size)\n",
    "    i = 2\n",
    "    count = 0 \n",
    "    no_use = []\n",
    "    for word in words[2:]:\n",
    "        if word in pretained:\n",
    "            W[i] = pretained[word]\n",
    "            count +=1\n",
    "        else:\n",
    "            W[i] =  np.random.uniform(-0.25,0.25,emb_size)\n",
    "            no_use.append(word)\n",
    "        i+=1\n",
    "    rate = count/len(words)\n",
    "    print(\"coverage rate: \" ,round(rate, 4))\n",
    "    print(no_use)\n",
    "    print(len(no_use))\n",
    "    return W"
   ]
  },
  {
   "cell_type": "code",
   "execution_count": 20,
   "metadata": {},
   "outputs": [
    {
     "name": "stdout",
     "output_type": "stream",
     "text": [
      "Character: ×, Unicode Code: 0xd7\n"
     ]
    }
   ],
   "source": [
    "# test for some special unicode\n",
    "punctuation = \"×\"\n",
    "\n",
    "for char in punctuation:\n",
    "    unicode_code = ord(char)\n",
    "    print(f\"Character: {char}, Unicode Code: {hex(unicode_code)}\")"
   ]
  },
  {
   "cell_type": "code",
   "execution_count": 21,
   "metadata": {},
   "outputs": [
    {
     "name": "stdout",
     "output_type": "stream",
     "text": [
      "coverage rate:  0.9618\n",
      "['epidemiolgy', 'pharmacidal', 'ginuea', 'stepgran', 'juses', 'productwhich', 'yoyoshandro', 'vanhi', 'subversed', 'mabmia', 'vaxxine', 'testto', 'ituturo', 'cgtn', 'vacciner', 'kunyiwe', 'intereferes', 'inmunity', 'aforemost', 'sciencyists', 'brexit', '°c', 'covfefe', 'thsts', 'immunsystems', 'pyzer', 'istampered', 'solante', 'coyldve', 'agolf', 'scamdemicgoal', 'stopworldcontroldotcom', 'havecoveredup', 'youbube', 'vacclne', 'poef', 'orestar', 'exsposing', 'jvci', 'syncitin', 'profitspeople', 'amerifat', 'pharmedia', 'epidemologist', 'unaproved', 'attentuated', 'yativ', 'vacunal', 'waydayaknow', 'funvax', 'vaxxed', 'scareduck', 'tenderfor', 'drumps', 'itsmall', 'placibos', 'disputab', 'pisazz', 'elens', 'sollisch', 'bhakdi', 'novichok', 'vaxzevria', 'astrazenica', 'itwa', 'dengvaxia', 'ivectermin', 'countiune', 'authoritans', 'ofadverse', 'citokine', 'covaxin', 'antivaxxer', 'adnmitted', 'purposefylly', 'trgedy', 'licesing', 'sucharit', 'dyatt', 'covishield', 'nanofilaments', 'waaaarp', 'grundvig', 'thundercunts', 'permanate', 'epochtimesusnews', 'trumpys', 'vaice', 'railled', 'wionews', 'noorchashm', 'adrenalchrome', 'inferti', 'immuneo', 'govm', 'postinfxn', 'pelosy', 'meaww', 'goingnto', 'vaerd', 'mandatoey', 'sokolka', 'yearsl', 'prention', 'youtrumpsters', 'eudra', 'tegnell', 'hoaxe', 'expotential', 'usenewsatw', 'hesitants', 'nutsnuts', 'atmanirbhar', 'thegot', 'inru', 'yeardon', 'danielauhlig', 'hosakta', 'luciferease', 'bouima', 'antivaxer', 'qanon', 'chywanprash', 'goldpot', 'buahahahahaah', 'modrna', 'unsplash', 'sterelize', 'greatgameindia', 'andhighly', 'casedemic', 'brexitier', 'cassper', 'sphithiphithi', 'relibility', 'vaccineso', 'vasculotropic', 'personanymoreyou', 'theoryfuck', 'standardnorway', 'sonfi', 'issyahipuma', 'inpfizer', 'comirnaty', 'bukholm', 'bionrech', 'safetyðical', 'covidhoax', 'fauchi', 'diedrate', 'blotus', 'mapabusong', 'palachook', 'bhabiji', 'nanonbots', 'unfrickingbelievable', 'healthcanada', 'doncovfefe', 'billygates', 'caumes', 'humantissues', 'phiezer', 'vaccinationns', 'trudick', 'mneongreen', 'kazarek', 'untrialed', 'niffle', 'bourlanot', 'certainately', 'rēset', 'astrozeneca', 'weirddddd', 'symptomns', 'griffter', 'vachabayiwa', 'eficacy', 'paikot', 'kakapagod', 'potentually', 'sarbecovirus', 'cominarty', 'clickbait', 'bntx', 'aaaaaaandwait', 'azilime', 'bitchute', 'haarsh', 'vaxxing', 'fauxi', 'norha', 'peridcarditis', 'assymptomatic', 'scamdemic', 'sterilizating', 'timesco', 'adiuvants', 'curevac', 'granfathers', 'drumph', 'astrazenneka', 'sagarmediainc', 'vaxxx', 'yoyohinshaw', 'facui', 'pilbright', 'covidiots', 'vaxine', 'vachina', 'covshield', 'scomo', 'instructiins', 'succussfully', 'anycsheriffsgt', 'pawokes', 'umsuzwane', 'asrtazeneca', 'ambulated', 'sunak', 'trools', 'tvthere', 'triggernometry', 'bolshivism', 'recations', 'drugsafetyofficers', 'prollys', 'guillain–barré', '•', 'corronavirus', 'remdisivir', 'vaxxer', 'valneva', 'nervtag', 'unvaxxed', 'lemaooo', 'digong', 'noorse', 'acruri', 'damageone', 'provaxxer', 'yeaes', 'covid–', 'ventillators', 'conscientize', 'biontect', 'phillipot', 'catastrophicaly', 'vaccer', 'oxford–astrazeneca', 'mengelle', 'untrialled', 'covix', 'remdesivir', 'veklury', 'pfizer−biontech', 'coolaide', 'drjune', 'zoflot', 'torydom', 'interviewie', 'brexiteers', 'waydoyaknow', 'yellowshits', 'arutzsheva', 'quickerjust', 'nguwani', 'covax', 'c°', 'kurill', '¬', 'frankenshots', 'antiechrist', 'reactogenic', 'eeiriely', 'covaxine', 'vaxx', 'waxxed', 'careuk', 'biotect', 'reasd', 'loonnng', 'speeeeeed', 'vacinne', 'morenda', 'sadrzadeh', 'faucy', 'noninfluenza', 'biontec', 'coronavac', 'mnra', 'vaxies', 'hydroxychlorine', 'hydrochloroquine', 'adment', 'reinfects', 'trialees', 'sincehow', 'deepstate', 'respiratoryfailure', 'todayeveryday', 'astrazeneka', 'covishiield', 'vqccine', 'hudroxychloroquine', 'livehood', 'mrba', 'robertfkennedyjr', 'bullthis', 'overamplified', 'governemtbsanctions', 'agenca', 'nanoparticules', 'indicriminately', 'minoritie', 'covidiot', 'compromisseddemorats', 'woudn', 'inoz', 'disabilitities', 'vacccination', 'bigfarm', 'manpfizer', 'moskvitches', 'lockdowned', 'toxicvaccines', 'tяump', 'desths', 'guneapig', 'hexyldecanoate', 'porksitan', 'covac', 'syncytin', 'ziyetsheni', 'trumpsters', 'nonidentified', 'plandemic', 'yellowtards', 'neutraul', 'astrazenca', 'monehhh', 'repored', 'cormorabities', 'covid', 'foetel', 'diarrhoering', 'phrama', 'trumpwill', 'fuxake', 'fdacber', 'vanhu', 'preclinicals', 'turiaco', 'clynick', 'morderna', 'undertested', 'sinovab', 'vaccinehas', 'vaccitech', 'illaria', 'sthafrican', 'vaxer', 'smartbugs', 'spreadvirus', 'biontech', 'zeneka', 'superspreaders', 'hockerz', 'grijns', 'schoub', 'yearq', 'plalying', 'andmuskrat', 'healfhy', 'sufferersbecause', 'surgisphere', 'experitment', 'messengerrna', 'whadduh', 'cvsts', 'neuralink', 'covashield', 'covice', 'overflating', 'zuckie', 'vaxxes', 'mintnorway', 'vaccinethe', 'vaxxers', 'vacinnes', 'wappies', 'chadox', 'zenaca', 'vaccineshas', 'extg', 'stabelizer', 'itlikehe', 'legalðical', 'ccpvirus', 'asymtomatic', 'unfully', 'hypercarbic', 'cricitizenthe', 'azanediyl', 'vaccined', 'depersoned', 'childtem', 'ikutin']\n",
      "407\n"
     ]
    }
   ],
   "source": [
    "import joblib\n",
    "word_vecs = load_glove_vectors()\n",
    "pretrain_weights = get_emb_matrix(word_vecs,words,300)\n",
    "# joblib.dump(pretrain_weights, 'pretrain.pkl')"
   ]
  },
  {
   "cell_type": "code",
   "execution_count": 22,
   "metadata": {},
   "outputs": [],
   "source": [
    "\n",
    "\n",
    "class CustomDataset(Dataset):\n",
    "    def __init__(self,data, tokenizer,max_length,words):\n",
    "        self.data = data \n",
    "        self.tokenizer = tokenizer\n",
    "        self.max_length = max_length\n",
    "        self.words = words\n",
    "\n",
    "    def __len__(self):\n",
    "        return len(self.data)\n",
    "    def __getitem__(self, index) :\n",
    "        tweet = self.data[index][\"tweet\"]\n",
    "        labels = self.data[index][\"labels\"]\n",
    "        encode_text = self.encode(tweet,self.words)\n",
    "        encode_label = self.label_encoded(labels)\n",
    "        seq_len = np.count_nonzero(encode_text)\n",
    "        # seq_len = len(encode_text)\n",
    "        return encode_text , encode_label , seq_len\n",
    "    def encode(self,text,vocab2idx):\n",
    "        token = self.tokenizer(text)\n",
    "        encoded = np.zeros(self.max_length,dtype=int)\n",
    "        enc1 = np.array([vocab2idx.get(word,vocab2idx[\"UNK\"]) for word in token] )\n",
    "        # print(enc1.shape)\n",
    "        length = min(self.max_length,len(enc1))\n",
    "        encoded[:length] = enc1[:length]\n",
    "        \n",
    "        return encoded \n",
    "    def label_encoded(self,labels):\n",
    "        encode_label = np.zeros(12,dtype=int)\n",
    "        list_label = list(labels.keys())\n",
    "        for i in list_label:\n",
    "            idx = tag_to_idx[i]\n",
    "            encode_label[idx] = 1\n",
    "        # encode_label = torch.LongTensor(encode_label)\n",
    "        return encode_label "
   ]
  },
  {
   "cell_type": "code",
   "execution_count": 23,
   "metadata": {},
   "outputs": [],
   "source": [
    "max_length = 300\n",
    "train_data = CustomDataset(train_data,preprocess,max_length,vocab2idx)\n",
    "train_loader = DataLoader(train_data,batch_size=32)\n"
   ]
  },
  {
   "cell_type": "code",
   "execution_count": 24,
   "metadata": {},
   "outputs": [
    {
     "name": "stdout",
     "output_type": "stream",
     "text": [
      "Now is using cuda device\n"
     ]
    }
   ],
   "source": [
    "device = \"cuda\" if torch.cuda.is_available() else \"cpu\"\n",
    "print(f\"Now is using {device} device\")"
   ]
  },
  {
   "cell_type": "code",
   "execution_count": 25,
   "metadata": {},
   "outputs": [],
   "source": [
    "from torch.nn.utils.rnn import pack_padded_sequence ,pad_packed_sequence"
   ]
  },
  {
   "cell_type": "code",
   "execution_count": 26,
   "metadata": {},
   "outputs": [],
   "source": [
    "def train(dataloader,model,loss_fn,optimizer):\n",
    "    size = len(dataloader.dataset)\n",
    "    model.train()\n",
    "    for batch , (X,y,seq) in enumerate(dataloader):\n",
    "        X,y =X.to(device),y.to(device,dtype=torch.float)\n",
    "        # print(seq)\n",
    "        pred = model(X,seq)\n",
    "        # print(pred.dtype)\n",
    "        loss = loss_fn(pred,y)\n",
    "\n",
    "\n",
    "        optimizer.zero_grad()\n",
    "        loss.backward()\n",
    "        optimizer.step()\n",
    "\n",
    "        if batch%200 ==0:\n",
    "            loss,curr = loss.item() , batch * len(X)\n",
    "            print(f\"loss: {loss:>7f} [{curr:>5d}/{size:>5d}]\")"
   ]
  },
  {
   "cell_type": "code",
   "execution_count": 95,
   "metadata": {},
   "outputs": [],
   "source": [
    "import torch.nn.functional as F\n",
    "class SpatialDropout(nn.Dropout2d):\n",
    "    def forward(self, x):\n",
    "        x = x.unsqueeze(2)    # (N, T, 1, K)\n",
    "        x = x.permute(0, 3, 2, 1)  # (N, K, 1, T)\n",
    "        x = super(SpatialDropout, self).forward(x)  # (N, K, 1, T), some features are masked\n",
    "        x = x.permute(0, 3, 2, 1)  # (N, T, 1, K)\n",
    "        x = x.squeeze(2)  # (N, T, K)\n",
    "        return x\n",
    "\n",
    "class pretrain_weight_LSTM(nn.Module):\n",
    "    def __init__(self, vocab_size, embedding_dim,hidden_dim,pretrain_weights,bidirectional) :\n",
    "        super().__init__()\n",
    "        self.hidden_dim = hidden_dim\n",
    "        self.embeddings = nn.Embedding(vocab_size,embedding_dim,padding_idx=0)\n",
    "        self.embeddings.weight.data.copy_(torch.from_numpy(pretrain_weights))\n",
    "        self.embeddings.weight.requires_grad = True \n",
    "        self.lstm = nn.LSTM(embedding_dim,hidden_dim,num_layers=1,bidirectional=bidirectional,batch_first=True)\n",
    "        self.embedding_dropout = SpatialDropout(0.5)\n",
    "        self.relu = nn.ReLU()\n",
    "        h = int(hidden_dim*3)\n",
    "        self.tanh= nn.Tanh()\n",
    "        self.fc1 = nn.Linear(in_features=hidden_dim*2,out_features=h)\n",
    "        self.droupt1 = nn.Dropout(0.5)\n",
    "        self.fc2 = nn.Linear(h,12)\n",
    "        self.droupt2 = nn.Dropout(0.5)\n",
    "        self.w_omega = nn.Parameter(torch.Tensor(hidden_dim*2,hidden_dim*2))\n",
    "        self.u_omega = nn.Parameter(torch.Tensor(hidden_dim*2,1))\n",
    "        self.word_bias = nn.Parameter(torch.Tensor(1, 2 * hidden_dim))\n",
    "        # nn.init.uniform_(self.w_omega,-0.1,0.1)\n",
    "        # nn.init.uniform_(self.u_omega,-0.1,0.1)\n",
    "        nn.init.xavier_uniform_(self.w_omega)\n",
    "        nn.init.xavier_uniform_(self.u_omega)\n",
    "\n",
    "    def forward(self,x,s):\n",
    "        embeed = self.embeddings(x)\n",
    "        embeed = self.embedding_dropout(embeed)\n",
    "        x_pack = pack_padded_sequence(embeed,s.to('cpu'),batch_first=True, enforce_sorted=False)\n",
    "        \n",
    "        pack_out , (ht,ct) = self.lstm(x_pack)\n",
    "        # ht = torch.cat((ht[-2,:,:], ht[-1,:,:]), dim = 1)\n",
    "        # out = self.droupt(ht[-1])\n",
    "        x,length =pad_packed_sequence(pack_out, batch_first=True)\n",
    "        # print(x.shape)\n",
    "        u = torch.tanh(torch.matmul(x,self.w_omega)+self.word_bias)\n",
    "        att = torch.matmul(u,self.u_omega)\n",
    "        att_score = F.softmax(att,dim=1)\n",
    "        score_x = x*att_score\n",
    "        ht = torch.sum(score_x,dim=1)\n",
    "        ht = self.tanh(ht)\n",
    "        out = self.droupt1(ht)\n",
    "        out = self.fc1(out)\n",
    "        out = self.relu(out)\n",
    "        out = self.droupt2(out)\n",
    "        out = self.fc2(out)\n",
    "        return out \n",
    "    "
   ]
  },
  {
   "cell_type": "code",
   "execution_count": 96,
   "metadata": {},
   "outputs": [],
   "source": [
    "bidirectional = True\n",
    "embedding_dim = 300\n",
    "hidden_dim = 300\n",
    "model_2 = pretrain_weight_LSTM(vocab_size,embedding_dim,hidden_dim,pretrain_weights,bidirectional).to(device)"
   ]
  },
  {
   "cell_type": "code",
   "execution_count": 97,
   "metadata": {},
   "outputs": [
    {
     "data": {
      "text/plain": [
       "pretrain_weight_LSTM(\n",
       "  (embeddings): Embedding(10717, 300, padding_idx=0)\n",
       "  (lstm): LSTM(300, 300, batch_first=True, bidirectional=True)\n",
       "  (embedding_dropout): SpatialDropout(p=0.5, inplace=False)\n",
       "  (relu): ReLU()\n",
       "  (tanh): Tanh()\n",
       "  (fc1): Linear(in_features=600, out_features=900, bias=True)\n",
       "  (droupt1): Dropout(p=0.5, inplace=False)\n",
       "  (fc3): Linear(in_features=900, out_features=900, bias=True)\n",
       "  (relu2): ReLU()\n",
       "  (droupt3): Dropout(p=0.5, inplace=False)\n",
       "  (fc2): Linear(in_features=900, out_features=12, bias=True)\n",
       "  (droupt2): Dropout(p=0.5, inplace=False)\n",
       ")"
      ]
     },
     "execution_count": 97,
     "metadata": {},
     "output_type": "execute_result"
    }
   ],
   "source": [
    "from torchsummary import summary\n",
    "model_2"
   ]
  },
  {
   "cell_type": "code",
   "execution_count": 98,
   "metadata": {},
   "outputs": [],
   "source": [
    "weight= weight.to(device)\n",
    "loss_fn = nn.BCEWithLogitsLoss()\n",
    "optimizer = torch.optim.Adam(model_2.parameters(),lr=1e-3)"
   ]
  },
  {
   "cell_type": "code",
   "execution_count": 99,
   "metadata": {},
   "outputs": [],
   "source": [
    "from sklearn.metrics import f1_score"
   ]
  },
  {
   "cell_type": "code",
   "execution_count": 100,
   "metadata": {},
   "outputs": [],
   "source": [
    "def evalute(dataloader,model,loss_fn):\n",
    "    model.eval()\n",
    "    y_pred = []\n",
    "    y_target = []\n",
    "    with torch.no_grad():\n",
    "        for X,y,seq in dataloader:\n",
    "            X,y = X.to(device) , y.to(device,dtype=torch.float)\n",
    "            pred = model(X,seq)\n",
    "            y_pred.extend(torch.sigmoid(pred).cpu().detach().numpy().tolist())\n",
    "            y_target.extend(y.cpu().detach().numpy().tolist())\n",
    "    y_preds = (np.array(y_pred)>0.5).astype(int)\n",
    "    marco_f1= f1_score(y_target,y_preds,average='macro')\n",
    "    print(\"marco f1 score : \",marco_f1)\n",
    "    return marco_f1"
   ]
  },
  {
   "cell_type": "code",
   "execution_count": 101,
   "metadata": {},
   "outputs": [
    {
     "name": "stdout",
     "output_type": "stream",
     "text": [
      "{'ID': '1397651228679675907', 'tweet': '      ', 'labels': {'none': [{'index': 0, 'start': 0, 'end': 1, 'terms': '@HHSGov'}]}}\n"
     ]
    }
   ],
   "source": [
    "val_data =load_data('val.json')\n",
    "for i in val_data:\n",
    "    sent_arr = set(preprocess(i['tweet']))\n",
    "    if len(sent_arr) == 0:\n",
    "        print(i)\n",
    "        val_data.remove(i)\n",
    "        continue\n",
    "val_data = CustomDataset(val_data,preprocess,max_length,vocab2idx)\n",
    "val_dataloader = DataLoader(val_data,batch_size=1)\n",
    "\n",
    "# evalute(val_dataloader,model_2,loss_fn)"
   ]
  },
  {
   "cell_type": "code",
   "execution_count": 102,
   "metadata": {},
   "outputs": [
    {
     "name": "stdout",
     "output_type": "stream",
     "text": [
      "Epoch 1\n",
      "-----------------------\n",
      "loss: 0.690884 [    0/ 6955]\n"
     ]
    },
    {
     "name": "stdout",
     "output_type": "stream",
     "text": [
      "loss: 0.227452 [ 6400/ 6955]\n",
      "marco f1 score :  0.07849536372598183\n",
      "save model\n",
      "Epoch 2\n",
      "-----------------------\n",
      "loss: 0.264223 [    0/ 6955]\n",
      "loss: 0.214635 [ 6400/ 6955]\n",
      "marco f1 score :  0.2518560476704566\n",
      "save model\n",
      "Epoch 3\n",
      "-----------------------\n",
      "loss: 0.221750 [    0/ 6955]\n",
      "loss: 0.182968 [ 6400/ 6955]\n",
      "marco f1 score :  0.36274443647651483\n",
      "save model\n",
      "Epoch 4\n",
      "-----------------------\n",
      "loss: 0.179854 [    0/ 6955]\n",
      "loss: 0.171050 [ 6400/ 6955]\n",
      "marco f1 score :  0.44642664874887955\n",
      "save model\n",
      "Epoch 5\n",
      "-----------------------\n",
      "loss: 0.153775 [    0/ 6955]\n",
      "loss: 0.154520 [ 6400/ 6955]\n",
      "marco f1 score :  0.4869842067370496\n",
      "save model\n",
      "Epoch 6\n",
      "-----------------------\n",
      "loss: 0.129657 [    0/ 6955]\n",
      "loss: 0.131244 [ 6400/ 6955]\n",
      "marco f1 score :  0.5053334779286952\n",
      "save model\n",
      "Epoch 7\n",
      "-----------------------\n",
      "loss: 0.140861 [    0/ 6955]\n",
      "loss: 0.126791 [ 6400/ 6955]\n",
      "marco f1 score :  0.5308760971476119\n",
      "save model\n",
      "Epoch 8\n",
      "-----------------------\n",
      "loss: 0.082563 [    0/ 6955]\n",
      "loss: 0.114492 [ 6400/ 6955]\n",
      "marco f1 score :  0.5659570510086259\n",
      "save model\n",
      "Epoch 9\n",
      "-----------------------\n",
      "loss: 0.100891 [    0/ 6955]\n",
      "loss: 0.099547 [ 6400/ 6955]\n",
      "marco f1 score :  0.5450019844880784\n",
      "Epoch 10\n",
      "-----------------------\n",
      "loss: 0.128869 [    0/ 6955]\n",
      "loss: 0.099541 [ 6400/ 6955]\n",
      "marco f1 score :  0.5876644593820268\n",
      "save model\n",
      "Epoch 11\n",
      "-----------------------\n",
      "loss: 0.069067 [    0/ 6955]\n",
      "loss: 0.084701 [ 6400/ 6955]\n",
      "marco f1 score :  0.5906593727722632\n",
      "save model\n",
      "Epoch 12\n",
      "-----------------------\n",
      "loss: 0.087230 [    0/ 6955]\n",
      "loss: 0.067781 [ 6400/ 6955]\n",
      "marco f1 score :  0.592687045288751\n",
      "save model\n",
      "Epoch 13\n",
      "-----------------------\n",
      "loss: 0.080901 [    0/ 6955]\n",
      "loss: 0.081032 [ 6400/ 6955]\n",
      "marco f1 score :  0.6016235255325485\n",
      "save model\n",
      "Epoch 14\n",
      "-----------------------\n",
      "loss: 0.052074 [    0/ 6955]\n",
      "loss: 0.078783 [ 6400/ 6955]\n",
      "marco f1 score :  0.5876012190643105\n",
      "Epoch 15\n",
      "-----------------------\n",
      "loss: 0.065636 [    0/ 6955]\n",
      "loss: 0.061915 [ 6400/ 6955]\n",
      "marco f1 score :  0.5927396199627473\n",
      "Epoch 16\n",
      "-----------------------\n",
      "loss: 0.031788 [    0/ 6955]\n",
      "loss: 0.101965 [ 6400/ 6955]\n",
      "marco f1 score :  0.5976742304332522\n",
      "Epoch 17\n",
      "-----------------------\n",
      "loss: 0.064244 [    0/ 6955]\n",
      "loss: 0.049665 [ 6400/ 6955]\n",
      "marco f1 score :  0.6036284075560238\n",
      "save model\n",
      "Epoch 18\n",
      "-----------------------\n",
      "loss: 0.052965 [    0/ 6955]\n",
      "loss: 0.051662 [ 6400/ 6955]\n",
      "marco f1 score :  0.5916834327476204\n",
      "Epoch 19\n",
      "-----------------------\n",
      "loss: 0.037111 [    0/ 6955]\n",
      "loss: 0.043234 [ 6400/ 6955]\n",
      "marco f1 score :  0.5876531000680675\n",
      "Epoch 20\n",
      "-----------------------\n",
      "loss: 0.027426 [    0/ 6955]\n",
      "loss: 0.050220 [ 6400/ 6955]\n",
      "marco f1 score :  0.5781167165684172\n",
      "Epoch 21\n",
      "-----------------------\n",
      "loss: 0.036020 [    0/ 6955]\n",
      "loss: 0.048015 [ 6400/ 6955]\n",
      "marco f1 score :  0.5962784019041719\n",
      "Epoch 22\n",
      "-----------------------\n",
      "loss: 0.029467 [    0/ 6955]\n",
      "loss: 0.021132 [ 6400/ 6955]\n",
      "marco f1 score :  0.5945716670686915\n",
      "Epoch 23\n",
      "-----------------------\n",
      "loss: 0.028353 [    0/ 6955]\n",
      "loss: 0.037861 [ 6400/ 6955]\n",
      "marco f1 score :  0.5917246062564708\n",
      "Epoch 24\n",
      "-----------------------\n",
      "loss: 0.035328 [    0/ 6955]\n",
      "loss: 0.013007 [ 6400/ 6955]\n",
      "marco f1 score :  0.6044766360000565\n",
      "save model\n",
      "Epoch 25\n",
      "-----------------------\n",
      "loss: 0.024790 [    0/ 6955]\n",
      "loss: 0.020206 [ 6400/ 6955]\n",
      "marco f1 score :  0.5967085056178898\n",
      "Epoch 26\n",
      "-----------------------\n",
      "loss: 0.027399 [    0/ 6955]\n",
      "loss: 0.029777 [ 6400/ 6955]\n",
      "marco f1 score :  0.5997164660265103\n",
      "Epoch 27\n",
      "-----------------------\n",
      "loss: 0.026169 [    0/ 6955]\n",
      "loss: 0.029128 [ 6400/ 6955]\n",
      "marco f1 score :  0.5764271694764475\n",
      "Epoch 28\n",
      "-----------------------\n",
      "loss: 0.017136 [    0/ 6955]\n",
      "loss: 0.008706 [ 6400/ 6955]\n",
      "marco f1 score :  0.5770506708595106\n",
      "Epoch 29\n",
      "-----------------------\n",
      "loss: 0.034112 [    0/ 6955]\n",
      "loss: 0.042678 [ 6400/ 6955]\n",
      "marco f1 score :  0.5784990961096502\n",
      "Epoch 30\n",
      "-----------------------\n",
      "loss: 0.017497 [    0/ 6955]\n",
      "loss: 0.043072 [ 6400/ 6955]\n",
      "marco f1 score :  0.5834962399265607\n",
      "best score:  0.6044766360000565\n"
     ]
    }
   ],
   "source": [
    "epochs = 30\n",
    "max_score = 0 \n",
    "for t in range(epochs):\n",
    "    print(f\"Epoch {t+1}\\n-----------------------\")\n",
    "    train(train_loader,model_2,loss_fn,optimizer)\n",
    "    score = evalute(val_dataloader,model_2,loss_fn)\n",
    "    # print(f\"max score in {t+1} epoch : \",score)\n",
    "    if score > max_score:\n",
    "        max_score =score\n",
    "        path = './w_weight.pth'\n",
    "        torch.save(model_2.state_dict(),path)\n",
    "        print('save model')\n",
    "print(\"best score: \" ,max_score)"
   ]
  },
  {
   "cell_type": "code",
   "execution_count": 103,
   "metadata": {},
   "outputs": [],
   "source": [
    "class testDataset(Dataset):\n",
    "    def __init__(self,data, tokenizer,max_length,words):\n",
    "        self.data = data \n",
    "        self.tokenizer = tokenizer\n",
    "        self.max_length = max_length\n",
    "        self.words = words\n",
    "\n",
    "    def __len__(self):\n",
    "        return len(self.data)\n",
    "    def __getitem__(self, index) :\n",
    "        tweet = self.data[index][\"tweet\"]\n",
    "        encode_text = self.encode(tweet,self.words)\n",
    "        seq_len = np.count_nonzero(encode_text)\n",
    "        return encode_text  , seq_len\n",
    "    def encode(self,text,vocab2idx):\n",
    "        token = self.tokenizer(text)\n",
    "        encoded = np.zeros(self.max_length,dtype=int)\n",
    "        enc1 = np.array([vocab2idx.get(word,vocab2idx[\"UNK\"]) for word in token] )\n",
    "        # print(enc1.shape)\n",
    "        length = min(self.max_length,len(enc1))\n",
    "        encoded[:length] = enc1[:length]\n",
    "        return encoded "
   ]
  },
  {
   "cell_type": "code",
   "execution_count": 104,
   "metadata": {},
   "outputs": [],
   "source": [
    "test_data = load_data(\"test.json\")\n",
    "test_data = testDataset(test_data,preprocess,max_length,vocab2idx)\n",
    "test_loader = DataLoader(test_data,batch_size=1)"
   ]
  },
  {
   "cell_type": "code",
   "execution_count": 105,
   "metadata": {},
   "outputs": [],
   "source": [
    "path = './w_weight.pth'\n",
    "model_2 = pretrain_weight_LSTM(vocab_size,embedding_dim,hidden_dim,pretrain_weights,bidirectional).to(device)\n",
    "model_2.load_state_dict(torch.load(path))\n",
    "model_2.eval()\n",
    "y_pred = []\n",
    "with torch.no_grad():\n",
    "    for x,seq_len in test_loader:\n",
    "        x = x.to(device)\n",
    "        pred = model_2(x,seq_len)\n",
    "        y_pred.extend(torch.sigmoid(pred).cpu().detach().numpy().tolist())"
   ]
  },
  {
   "cell_type": "code",
   "execution_count": 106,
   "metadata": {},
   "outputs": [
    {
     "data": {
      "text/plain": [
       "array([[0, 0, 0, ..., 0, 0, 0],\n",
       "       [0, 1, 0, ..., 0, 0, 0],\n",
       "       [0, 1, 0, ..., 0, 0, 0],\n",
       "       ...,\n",
       "       [0, 0, 0, ..., 0, 0, 0],\n",
       "       [0, 1, 1, ..., 0, 0, 0],\n",
       "       [0, 0, 0, ..., 0, 0, 0]])"
      ]
     },
     "execution_count": 106,
     "metadata": {},
     "output_type": "execute_result"
    }
   ],
   "source": [
    "y_preds = (np.array(y_pred) > 0.5).astype(int)\n",
    "y_preds"
   ]
  },
  {
   "cell_type": "code",
   "execution_count": 107,
   "metadata": {},
   "outputs": [],
   "source": [
    "df = pd.DataFrame(y_preds, columns=tag_list)\n",
    "df_reset = df.reset_index()\n",
    "# print(df_reset.head())"
   ]
  },
  {
   "cell_type": "code",
   "execution_count": 108,
   "metadata": {},
   "outputs": [],
   "source": [
    "data_rows = df_reset.to_dict(orient='records')"
   ]
  },
  {
   "cell_type": "code",
   "execution_count": 109,
   "metadata": {},
   "outputs": [],
   "source": [
    "import csv\n",
    "with open(\"submission.csv\", 'w', newline='') as csvfile:\n",
    "    fieldnames=[\"index\",\"ineffective\",\"unnecessary\",\"pharma\",\"rushed\",\"side-effect\",\"mandatory\",\"country\",\"ingredients\",\"political\",\"none\",\"conspiracy\",\"religious\"]\n",
    "    writer = csv.DictWriter(csvfile, fieldnames=fieldnames)\n",
    "    writer.writeheader()\n",
    "    writer.writerows(data_rows)"
   ]
  }
 ],
 "metadata": {
  "kernelspec": {
   "display_name": "vst",
   "language": "python",
   "name": "python3"
  },
  "language_info": {
   "codemirror_mode": {
    "name": "ipython",
    "version": 3
   },
   "file_extension": ".py",
   "mimetype": "text/x-python",
   "name": "python",
   "nbconvert_exporter": "python",
   "pygments_lexer": "ipython3",
   "version": "3.8.18"
  }
 },
 "nbformat": 4,
 "nbformat_minor": 2
}
