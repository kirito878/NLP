{
 "cells": [
  {
   "cell_type": "code",
   "execution_count": 29,
   "metadata": {},
   "outputs": [],
   "source": [
    "import os\n",
    "import torch\n",
    "from torch import nn\n",
    "import torchtext\n",
    "from torchtext.data import get_tokenizer\n",
    "import numpy as np\n",
    "import pandas as pd\n",
    "import json\n",
    "from torch.utils.data import Dataset , DataLoader"
   ]
  },
  {
   "cell_type": "code",
   "execution_count": 30,
   "metadata": {},
   "outputs": [],
   "source": [
    "def load_data(path):\n",
    "    with open(path,'r',encoding='utf-8') as file:\n",
    "        data = json.load(file)\n",
    "    # print(len(train_data))\n",
    "    return data"
   ]
  },
  {
   "cell_type": "code",
   "execution_count": 31,
   "metadata": {},
   "outputs": [
    {
     "name": "stderr",
     "output_type": "stream",
     "text": [
      "/home/wujh1123/anaconda3/envs/nlp/lib/python3.8/site-packages/torchtext/data/utils.py:105: UserWarning: Spacy model \"en\" could not be loaded, trying \"en_core_web_sm\" instead\n",
      "  warnings.warn(\n"
     ]
    },
    {
     "name": "stdout",
     "output_type": "stream",
     "text": [
      "26345\n"
     ]
    }
   ],
   "source": [
    "# import spacy\n",
    "# nlp = spacy.load('en_core_web_sm')\n",
    "tokenizer = get_tokenizer('spacy')\n",
    "train_data =load_data(\"train.json\")\n",
    "words = set()\n",
    "for i in train_data:\n",
    "    sent_arr = set(tokenizer(i['tweet']))\n",
    "    words = words | sent_arr\n",
    "words = [\"\",\"UNK\"]+list(words)\n",
    "print(len(words))"
   ]
  },
  {
   "cell_type": "code",
   "execution_count": 32,
   "metadata": {},
   "outputs": [],
   "source": [
    "tag_list=[\"ineffective\",\"unnecessary\",\"pharma\",\"rushed\",\"side-effect\",\"mandatory\",\"country\",\"ingredients\",\"political\",\"none\",\"conspiracy\",\"religious\"]\n",
    "tag_to_idx={}\n",
    "for i in range(len(tag_list)):\n",
    "    tag_to_idx[tag_list[i]]=i"
   ]
  },
  {
   "cell_type": "code",
   "execution_count": 33,
   "metadata": {},
   "outputs": [
    {
     "name": "stdout",
     "output_type": "stream",
     "text": [
      "<class 'dict'>\n",
      "{'ineffective': [{'index': 0, 'start': 6, 'end': 10, 'terms': 'cant control the Flu'}, {'index': 1, 'start': 37, 'end': 39, 'terms': 'infectious diseases'}]}\n",
      "['ineffective']\n",
      "4 side-effect\n"
     ]
    }
   ],
   "source": [
    "print(type(train_data[0]['labels']))\n",
    "print(train_data[0]['labels'])\n",
    "print(list(train_data[0]['labels'].keys()))\n",
    "for i in list(train_data[77]['labels'].keys()):\n",
    "    print(tag_to_idx[i],i)"
   ]
  },
  {
   "cell_type": "code",
   "execution_count": 34,
   "metadata": {},
   "outputs": [],
   "source": [
    "vocab2idx = {k:v for v,k in enumerate(words)}\n",
    "vocab_size = len(words)"
   ]
  },
  {
   "cell_type": "code",
   "execution_count": 35,
   "metadata": {},
   "outputs": [],
   "source": [
    "def load_glove_vectors(glove_file=\"glove.6B.300d.txt\"):\n",
    "    word_vectors = {}\n",
    "    with open(glove_file) as f:\n",
    "        for line in f :\n",
    "            s = line.split()\n",
    "            word_vectors[s[0]] = np.array([float(x) for x in s[1:]])\n",
    "    return word_vectors"
   ]
  },
  {
   "cell_type": "code",
   "execution_count": 36,
   "metadata": {},
   "outputs": [],
   "source": [
    "def get_emb_matrix(pretained,words,emb_size=300):\n",
    "    W = np.zeros((len(words),emb_size),dtype=\"float32\")\n",
    "    W[0] = np.zeros(emb_size,dtype=\"float32\")\n",
    "    W[1] = np.random.uniform(-0.25,0.25,emb_size)\n",
    "    i = 2\n",
    "    for word in words[2:]:\n",
    "        if word in pretained:\n",
    "            W[i] = pretained[word]\n",
    "        else:\n",
    "            W[i] =  np.random.uniform(-0.25,0.25,emb_size)\n",
    "        i+=1\n",
    "    return W"
   ]
  },
  {
   "cell_type": "code",
   "execution_count": 37,
   "metadata": {},
   "outputs": [],
   "source": [
    "word_vecs = load_glove_vectors()\n",
    "pretrain_weights = get_emb_matrix(word_vecs,words)"
   ]
  },
  {
   "cell_type": "code",
   "execution_count": 38,
   "metadata": {},
   "outputs": [],
   "source": [
    "\n",
    "\n",
    "class CustomDataset(Dataset):\n",
    "    def __init__(self,data, tokenizer,max_length,words):\n",
    "        self.data = data \n",
    "        self.tokenizer = tokenizer\n",
    "        self.max_length = max_length\n",
    "        self.words = words\n",
    "\n",
    "    def __len__(self):\n",
    "        return len(self.data)\n",
    "    def __getitem__(self, index) :\n",
    "        tweet = self.data[index][\"tweet\"]\n",
    "        labels = self.data[index][\"labels\"]\n",
    "        encode_text = self.encode(tweet,self.words)\n",
    "        encode_label = self.label_encoded(labels)\n",
    "        seq_len = np.count_nonzero(encode_text)\n",
    "        return encode_text , encode_label , seq_len\n",
    "    def encode(self,text,vocab2idx):\n",
    "        token = self.tokenizer(text)\n",
    "        encoded = np.zeros(self.max_length,dtype=int)\n",
    "        enc1 = np.array([vocab2idx.get(word,vocab2idx[\"UNK\"]) for word in token] )\n",
    "        # print(enc1.shape)\n",
    "        length = min(self.max_length,len(enc1))\n",
    "        encoded[:length] = enc1[:length]\n",
    "        return encoded \n",
    "    def label_encoded(self,labels):\n",
    "        encode_label = np.zeros(12,dtype=int)\n",
    "        list_label = list(labels.keys())\n",
    "        for i in list_label:\n",
    "            idx = tag_to_idx[i]\n",
    "            encode_label[idx] = 1\n",
    "        # encode_label = torch.LongTensor(encode_label)\n",
    "        return encode_label "
   ]
  },
  {
   "cell_type": "code",
   "execution_count": 39,
   "metadata": {},
   "outputs": [],
   "source": [
    "train_data = CustomDataset(train_data,tokenizer,300,vocab2idx)\n",
    "train_loader = DataLoader(train_data,batch_size=32)\n"
   ]
  },
  {
   "cell_type": "code",
   "execution_count": 40,
   "metadata": {},
   "outputs": [
    {
     "name": "stdout",
     "output_type": "stream",
     "text": [
      "Now is using cuda device\n"
     ]
    }
   ],
   "source": [
    "device = \"cuda\" if torch.cuda.is_available() else \"cpu\"\n",
    "print(f\"Now is using {device} device\")"
   ]
  },
  {
   "cell_type": "code",
   "execution_count": 41,
   "metadata": {},
   "outputs": [],
   "source": [
    "from torch.nn.utils.rnn import pack_padded_sequence"
   ]
  },
  {
   "cell_type": "code",
   "execution_count": 42,
   "metadata": {},
   "outputs": [],
   "source": [
    "def train(dataloader,model,loss_fn,optimizer):\n",
    "    size = len(dataloader.dataset)\n",
    "    model.train()\n",
    "    for batch , (X,y,seq) in enumerate(dataloader):\n",
    "        X,y =X.to(device),y.to(device,dtype=torch.float)\n",
    "        # print(seq)\n",
    "        pred = model(X,seq)\n",
    "        # print(pred.dtype)\n",
    "        loss = loss_fn(pred,y)\n",
    "\n",
    "\n",
    "        optimizer.zero_grad()\n",
    "        loss.backward()\n",
    "        optimizer.step()\n",
    "\n",
    "        if batch%200 ==0:\n",
    "            loss,curr = loss.item() , batch * len(X)\n",
    "            print(f\"loss: {loss:>7f} [{curr:>5d}/{size:>5d}]\")"
   ]
  },
  {
   "cell_type": "code",
   "execution_count": 43,
   "metadata": {},
   "outputs": [],
   "source": [
    "class pretrain_weight_LSTM(nn.Module):\n",
    "    def __init__(self, vocab_size, embedding_dim,hidden_dim,pretrain_weights,bidirectional) :\n",
    "        super().__init__()\n",
    "        self.hidden_dim = hidden_dim\n",
    "        self.embeddings = nn.Embedding(vocab_size,embedding_dim,padding_idx=0)\n",
    "        self.embeddings.weight.data.copy_(torch.from_numpy(pretrain_weights))\n",
    "        self.embeddings.weight.requires_grad = True \n",
    "        self.lstm = nn.LSTM(embedding_dim,hidden_dim,bidirectional=bidirectional,dropout=0.1,batch_first=True)\n",
    "        self.relu = nn.ReLU()\n",
    "        self.fc1 = nn.Linear(in_features=hidden_dim,out_features=hidden_dim)\n",
    "        self.droupt = nn.Dropout(0.3)\n",
    "        self.linear = nn.Linear(hidden_dim,12)\n",
    "    def forward(self,x,s):\n",
    "        embeed = self.embeddings(x)\n",
    "        x_pack = pack_padded_sequence(embeed,s.to('cpu'),batch_first=True, enforce_sorted=False)\n",
    "        pack_out , (ht,ct) = self.lstm(x_pack)\n",
    "        out = self.droupt(ht[-1])\n",
    "        out = self.fc1(out)\n",
    "        out = self.relu(out)\n",
    "        out = self.droupt(out)\n",
    "        out = self.linear(out)\n",
    "        return out "
   ]
  },
  {
   "cell_type": "code",
   "execution_count": 44,
   "metadata": {},
   "outputs": [
    {
     "name": "stderr",
     "output_type": "stream",
     "text": [
      "/home/wujh1123/anaconda3/envs/nlp/lib/python3.8/site-packages/torch/nn/modules/rnn.py:82: UserWarning: dropout option adds dropout after all but last recurrent layer, so non-zero dropout expects num_layers greater than 1, but got dropout=0.1 and num_layers=1\n",
      "  warnings.warn(\"dropout option adds dropout after all but last \"\n"
     ]
    }
   ],
   "source": [
    "bidirectional = False\n",
    "model_2 = pretrain_weight_LSTM(vocab_size,300,128,pretrain_weights,bidirectional).to(device)"
   ]
  },
  {
   "cell_type": "code",
   "execution_count": 45,
   "metadata": {},
   "outputs": [],
   "source": [
    "loss_fn = nn.BCEWithLogitsLoss()\n",
    "optimizer = torch.optim.Adam(model_2.parameters(),lr=1e-3)"
   ]
  },
  {
   "cell_type": "code",
   "execution_count": 46,
   "metadata": {},
   "outputs": [],
   "source": [
    "from sklearn.metrics import f1_score"
   ]
  },
  {
   "cell_type": "code",
   "execution_count": 47,
   "metadata": {},
   "outputs": [],
   "source": [
    "def evalute(dataloader,model,loss_fn):\n",
    "    model.eval()\n",
    "    y_pred = []\n",
    "    y_target = []\n",
    "    with torch.no_grad():\n",
    "        for X,y,seq in dataloader:\n",
    "            X,y = X.to(device) , y.to(device,dtype=torch.float)\n",
    "            pred = model(X,seq)\n",
    "            y_pred.extend(torch.sigmoid(pred).cpu().detach().numpy().tolist())\n",
    "            y_target.extend(y.cpu().detach().numpy().tolist())\n",
    "    y_preds = (np.array(y_pred)>0.5).astype(int)\n",
    "    marco_f1= f1_score(y_target,y_preds,average='macro')\n",
    "    print(\"marco f1 score : \",marco_f1)\n",
    "    return marco_f1"
   ]
  },
  {
   "cell_type": "code",
   "execution_count": 48,
   "metadata": {},
   "outputs": [],
   "source": [
    "val_data =load_data('val.json')\n",
    "val_data = CustomDataset(val_data,tokenizer,300,vocab2idx)\n",
    "val_dataloader = DataLoader(val_data,batch_size=1)\n",
    "\n",
    "# evalute(val_dataloader,model_2,loss_fn)"
   ]
  },
  {
   "cell_type": "code",
   "execution_count": 49,
   "metadata": {},
   "outputs": [
    {
     "name": "stdout",
     "output_type": "stream",
     "text": [
      "Epoch 1\n",
      "-----------------------\n",
      "loss: 0.688382 [    0/ 6956]\n"
     ]
    },
    {
     "name": "stdout",
     "output_type": "stream",
     "text": [
      "loss: 0.256707 [ 6400/ 6956]\n",
      "marco f1 score :  0.0\n",
      "Epoch 2\n",
      "-----------------------\n",
      "loss: 0.306245 [    0/ 6956]\n",
      "loss: 0.241082 [ 6400/ 6956]\n",
      "marco f1 score :  0.06512141280353201\n",
      "sava model\n",
      "Epoch 3\n",
      "-----------------------\n",
      "loss: 0.272564 [    0/ 6956]\n",
      "loss: 0.201039 [ 6400/ 6956]\n",
      "marco f1 score :  0.0673903211216644\n",
      "sava model\n",
      "Epoch 4\n",
      "-----------------------\n",
      "loss: 0.233727 [    0/ 6956]\n",
      "loss: 0.204813 [ 6400/ 6956]\n",
      "marco f1 score :  0.10634818027012387\n",
      "sava model\n",
      "Epoch 5\n",
      "-----------------------\n",
      "loss: 0.209964 [    0/ 6956]\n",
      "loss: 0.181591 [ 6400/ 6956]\n",
      "marco f1 score :  0.12417225599618427\n",
      "sava model\n",
      "Epoch 6\n",
      "-----------------------\n",
      "loss: 0.197581 [    0/ 6956]\n",
      "loss: 0.159245 [ 6400/ 6956]\n",
      "marco f1 score :  0.24639098603612533\n",
      "sava model\n",
      "Epoch 7\n",
      "-----------------------\n",
      "loss: 0.160883 [    0/ 6956]\n",
      "loss: 0.118408 [ 6400/ 6956]\n",
      "marco f1 score :  0.29356522872592977\n",
      "sava model\n",
      "Epoch 8\n",
      "-----------------------\n",
      "loss: 0.117679 [    0/ 6956]\n",
      "loss: 0.086306 [ 6400/ 6956]\n",
      "marco f1 score :  0.32821745672910557\n",
      "sava model\n",
      "Epoch 9\n",
      "-----------------------\n",
      "loss: 0.072282 [    0/ 6956]\n",
      "loss: 0.069527 [ 6400/ 6956]\n",
      "marco f1 score :  0.36677319121856017\n",
      "sava model\n",
      "Epoch 10\n",
      "-----------------------\n",
      "loss: 0.068045 [    0/ 6956]\n",
      "loss: 0.060956 [ 6400/ 6956]\n",
      "marco f1 score :  0.38452943999092287\n",
      "sava model\n",
      "Epoch 11\n",
      "-----------------------\n",
      "loss: 0.054573 [    0/ 6956]\n",
      "loss: 0.041775 [ 6400/ 6956]\n",
      "marco f1 score :  0.4019110307451206\n",
      "sava model\n",
      "Epoch 12\n",
      "-----------------------\n",
      "loss: 0.035863 [    0/ 6956]\n",
      "loss: 0.038876 [ 6400/ 6956]\n",
      "marco f1 score :  0.38310916029697006\n",
      "Epoch 13\n",
      "-----------------------\n",
      "loss: 0.026781 [    0/ 6956]\n",
      "loss: 0.030096 [ 6400/ 6956]\n",
      "marco f1 score :  0.4098810951684693\n",
      "sava model\n",
      "Epoch 14\n",
      "-----------------------\n",
      "loss: 0.023174 [    0/ 6956]\n",
      "loss: 0.017529 [ 6400/ 6956]\n",
      "marco f1 score :  0.4022825698139325\n",
      "Epoch 15\n",
      "-----------------------\n",
      "loss: 0.009966 [    0/ 6956]\n",
      "loss: 0.020203 [ 6400/ 6956]\n",
      "marco f1 score :  0.4156751487220068\n",
      "sava model\n",
      "Epoch 16\n",
      "-----------------------\n",
      "loss: 0.013150 [    0/ 6956]\n",
      "loss: 0.017859 [ 6400/ 6956]\n",
      "marco f1 score :  0.421578496199005\n",
      "sava model\n",
      "Epoch 17\n",
      "-----------------------\n",
      "loss: 0.012232 [    0/ 6956]\n",
      "loss: 0.012875 [ 6400/ 6956]\n",
      "marco f1 score :  0.4174581663124426\n",
      "Epoch 18\n",
      "-----------------------\n",
      "loss: 0.010277 [    0/ 6956]\n",
      "loss: 0.014457 [ 6400/ 6956]\n",
      "marco f1 score :  0.43327345735139317\n",
      "sava model\n",
      "Epoch 19\n",
      "-----------------------\n",
      "loss: 0.007997 [    0/ 6956]\n",
      "loss: 0.008509 [ 6400/ 6956]\n",
      "marco f1 score :  0.4254871008365191\n",
      "Epoch 20\n",
      "-----------------------\n",
      "loss: 0.002048 [    0/ 6956]\n",
      "loss: 0.008587 [ 6400/ 6956]\n",
      "marco f1 score :  0.4299000809312488\n",
      "Epoch 21\n",
      "-----------------------\n",
      "loss: 0.005870 [    0/ 6956]\n",
      "loss: 0.009107 [ 6400/ 6956]\n",
      "marco f1 score :  0.4187621368933483\n",
      "Epoch 22\n",
      "-----------------------\n",
      "loss: 0.017509 [    0/ 6956]\n",
      "loss: 0.010759 [ 6400/ 6956]\n",
      "marco f1 score :  0.4293947099864343\n",
      "Epoch 23\n",
      "-----------------------\n",
      "loss: 0.001866 [    0/ 6956]\n",
      "loss: 0.002990 [ 6400/ 6956]\n",
      "marco f1 score :  0.4233279296930846\n",
      "Epoch 24\n",
      "-----------------------\n",
      "loss: 0.003033 [    0/ 6956]\n",
      "loss: 0.003938 [ 6400/ 6956]\n",
      "marco f1 score :  0.43623449022532884\n",
      "sava model\n",
      "Epoch 25\n",
      "-----------------------\n",
      "loss: 0.003958 [    0/ 6956]\n",
      "loss: 0.001707 [ 6400/ 6956]\n",
      "marco f1 score :  0.4346738095898264\n",
      "Epoch 26\n",
      "-----------------------\n",
      "loss: 0.002344 [    0/ 6956]\n",
      "loss: 0.001849 [ 6400/ 6956]\n",
      "marco f1 score :  0.4387747162064359\n",
      "sava model\n",
      "Epoch 27\n",
      "-----------------------\n",
      "loss: 0.002223 [    0/ 6956]\n",
      "loss: 0.002207 [ 6400/ 6956]\n",
      "marco f1 score :  0.43647131946334344\n",
      "Epoch 28\n",
      "-----------------------\n",
      "loss: 0.001207 [    0/ 6956]\n",
      "loss: 0.003212 [ 6400/ 6956]\n",
      "marco f1 score :  0.43599812930056\n",
      "Epoch 29\n",
      "-----------------------\n",
      "loss: 0.013395 [    0/ 6956]\n",
      "loss: 0.001213 [ 6400/ 6956]\n",
      "marco f1 score :  0.4477006050510026\n",
      "sava model\n",
      "Epoch 30\n",
      "-----------------------\n",
      "loss: 0.001267 [    0/ 6956]\n",
      "loss: 0.002509 [ 6400/ 6956]\n",
      "marco f1 score :  0.45612637528275934\n",
      "sava model\n",
      "Epoch 31\n",
      "-----------------------\n",
      "loss: 0.003246 [    0/ 6956]\n",
      "loss: 0.006307 [ 6400/ 6956]\n",
      "marco f1 score :  0.4443610450722235\n",
      "Epoch 32\n",
      "-----------------------\n",
      "loss: 0.005576 [    0/ 6956]\n",
      "loss: 0.015669 [ 6400/ 6956]\n",
      "marco f1 score :  0.4443328069090458\n",
      "Epoch 33\n",
      "-----------------------\n",
      "loss: 0.002609 [    0/ 6956]\n",
      "loss: 0.003343 [ 6400/ 6956]\n",
      "marco f1 score :  0.42585513759572846\n",
      "Epoch 34\n",
      "-----------------------\n",
      "loss: 0.004450 [    0/ 6956]\n",
      "loss: 0.000473 [ 6400/ 6956]\n",
      "marco f1 score :  0.43674001119061945\n",
      "Epoch 35\n",
      "-----------------------\n",
      "loss: 0.002527 [    0/ 6956]\n",
      "loss: 0.001146 [ 6400/ 6956]\n",
      "marco f1 score :  0.4469483500914231\n",
      "Epoch 36\n",
      "-----------------------\n",
      "loss: 0.000952 [    0/ 6956]\n",
      "loss: 0.001285 [ 6400/ 6956]\n",
      "marco f1 score :  0.44586876696323213\n",
      "Epoch 37\n",
      "-----------------------\n",
      "loss: 0.003706 [    0/ 6956]\n",
      "loss: 0.001750 [ 6400/ 6956]\n",
      "marco f1 score :  0.4412201734886902\n",
      "Epoch 38\n",
      "-----------------------\n",
      "loss: 0.000237 [    0/ 6956]\n",
      "loss: 0.000292 [ 6400/ 6956]\n",
      "marco f1 score :  0.4376588407973365\n",
      "Epoch 39\n",
      "-----------------------\n",
      "loss: 0.000405 [    0/ 6956]\n",
      "loss: 0.001492 [ 6400/ 6956]\n",
      "marco f1 score :  0.4538905726699239\n",
      "Epoch 40\n",
      "-----------------------\n",
      "loss: 0.004935 [    0/ 6956]\n",
      "loss: 0.003070 [ 6400/ 6956]\n",
      "marco f1 score :  0.4482284870799316\n",
      "Epoch 41\n",
      "-----------------------\n",
      "loss: 0.000367 [    0/ 6956]\n",
      "loss: 0.000703 [ 6400/ 6956]\n",
      "marco f1 score :  0.4551797778986755\n",
      "Epoch 42\n",
      "-----------------------\n",
      "loss: 0.001092 [    0/ 6956]\n",
      "loss: 0.000390 [ 6400/ 6956]\n",
      "marco f1 score :  0.4499581686986344\n",
      "Epoch 43\n",
      "-----------------------\n",
      "loss: 0.000391 [    0/ 6956]\n",
      "loss: 0.000188 [ 6400/ 6956]\n",
      "marco f1 score :  0.44101819323481517\n",
      "Epoch 44\n",
      "-----------------------\n",
      "loss: 0.003525 [    0/ 6956]\n",
      "loss: 0.000429 [ 6400/ 6956]\n",
      "marco f1 score :  0.4405591860084295\n",
      "Epoch 45\n",
      "-----------------------\n",
      "loss: 0.004623 [    0/ 6956]\n",
      "loss: 0.000380 [ 6400/ 6956]\n",
      "marco f1 score :  0.4423061719016533\n",
      "Epoch 46\n",
      "-----------------------\n",
      "loss: 0.012700 [    0/ 6956]\n",
      "loss: 0.000281 [ 6400/ 6956]\n",
      "marco f1 score :  0.44051054900280134\n",
      "Epoch 47\n",
      "-----------------------\n",
      "loss: 0.002725 [    0/ 6956]\n",
      "loss: 0.000512 [ 6400/ 6956]\n",
      "marco f1 score :  0.4252358323216799\n",
      "Epoch 48\n",
      "-----------------------\n",
      "loss: 0.001440 [    0/ 6956]\n",
      "loss: 0.000114 [ 6400/ 6956]\n",
      "marco f1 score :  0.4276328002677783\n",
      "Epoch 49\n",
      "-----------------------\n",
      "loss: 0.000297 [    0/ 6956]\n",
      "loss: 0.000051 [ 6400/ 6956]\n",
      "marco f1 score :  0.4314703476195893\n",
      "Epoch 50\n",
      "-----------------------\n",
      "loss: 0.000370 [    0/ 6956]\n",
      "loss: 0.001834 [ 6400/ 6956]\n",
      "marco f1 score :  0.4440880422618612\n",
      "best score:  0.45612637528275934\n"
     ]
    }
   ],
   "source": [
    "epochs = 50\n",
    "max_score = 0 \n",
    "for t in range(epochs):\n",
    "    print(f\"Epoch {t+1}\\n-----------------------\")\n",
    "    train(train_loader,model_2,loss_fn,optimizer)\n",
    "    score = evalute(val_dataloader,model_2,loss_fn)\n",
    "    if score > max_score:\n",
    "        max_score =score\n",
    "        path = './w_weight.pth'\n",
    "        torch.save(model_2.state_dict(),path)\n",
    "        print('sava model')\n",
    "print(\"best score: \" ,max_score)"
   ]
  },
  {
   "cell_type": "code",
   "execution_count": 50,
   "metadata": {},
   "outputs": [],
   "source": [
    "class testDataset(Dataset):\n",
    "    def __init__(self,data, tokenizer,max_length,words):\n",
    "        self.data = data \n",
    "        self.tokenizer = tokenizer\n",
    "        self.max_length = max_length\n",
    "        self.words = words\n",
    "\n",
    "    def __len__(self):\n",
    "        return len(self.data)\n",
    "    def __getitem__(self, index) :\n",
    "        tweet = self.data[index][\"tweet\"]\n",
    "        encode_text = self.encode(tweet,self.words)\n",
    "        seq_len = np.count_nonzero(encode_text)\n",
    "        return encode_text  , seq_len\n",
    "    def encode(self,text,vocab2idx):\n",
    "        token = self.tokenizer(text)\n",
    "        encoded = np.zeros(self.max_length,dtype=int)\n",
    "        enc1 = np.array([vocab2idx.get(word,vocab2idx[\"UNK\"]) for word in token] )\n",
    "        # print(enc1.shape)\n",
    "        length = min(self.max_length,len(enc1))\n",
    "        encoded[:length] = enc1[:length]\n",
    "        return encoded "
   ]
  },
  {
   "cell_type": "code",
   "execution_count": 51,
   "metadata": {},
   "outputs": [],
   "source": [
    "test_data = load_data(\"test.json\")\n",
    "test_data = testDataset(test_data,tokenizer,300,vocab2idx)\n",
    "test_loader = DataLoader(test_data,batch_size=1)"
   ]
  },
  {
   "cell_type": "code",
   "execution_count": 52,
   "metadata": {},
   "outputs": [
    {
     "name": "stderr",
     "output_type": "stream",
     "text": [
      "/home/wujh1123/anaconda3/envs/nlp/lib/python3.8/site-packages/torch/nn/modules/rnn.py:82: UserWarning: dropout option adds dropout after all but last recurrent layer, so non-zero dropout expects num_layers greater than 1, but got dropout=0.1 and num_layers=1\n",
      "  warnings.warn(\"dropout option adds dropout after all but last \"\n"
     ]
    }
   ],
   "source": [
    "path = './w_weight.pth'\n",
    "model_2 = pretrain_weight_LSTM(vocab_size,300,128,pretrain_weights,bidirectional).to(device)\n",
    "model_2.load_state_dict(torch.load(path))\n",
    "model_2.eval()\n",
    "y_pred = []\n",
    "with torch.no_grad():\n",
    "    for x,seq_len in test_loader:\n",
    "        x = x.to(device)\n",
    "        pred = model_2(x,seq_len)\n",
    "        y_pred.extend(torch.sigmoid(pred).cpu().detach().numpy().tolist())"
   ]
  },
  {
   "cell_type": "code",
   "execution_count": 53,
   "metadata": {},
   "outputs": [
    {
     "data": {
      "text/plain": [
       "array([[0, 0, 1, ..., 0, 0, 0],\n",
       "       [0, 0, 0, ..., 1, 0, 0],\n",
       "       [0, 0, 0, ..., 0, 0, 0],\n",
       "       ...,\n",
       "       [0, 0, 0, ..., 0, 0, 0],\n",
       "       [0, 1, 1, ..., 0, 0, 0],\n",
       "       [0, 0, 0, ..., 0, 0, 0]])"
      ]
     },
     "execution_count": 53,
     "metadata": {},
     "output_type": "execute_result"
    }
   ],
   "source": [
    "y_preds = (np.array(y_pred) > 0.5).astype(int)\n",
    "y_preds"
   ]
  },
  {
   "cell_type": "code",
   "execution_count": 54,
   "metadata": {},
   "outputs": [
    {
     "name": "stdout",
     "output_type": "stream",
     "text": [
      "   index  ineffective  unnecessary  pharma  rushed  side-effect  mandatory  \\\n",
      "0      0            0            0       1       0            0          0   \n",
      "1      1            0            0       0       0            0          0   \n",
      "2      2            0            0       0       0            1          0   \n",
      "3      3            1            0       0       0            0          0   \n",
      "4      4            0            0       0       0            0          0   \n",
      "\n",
      "   country  ingredients  political  none  conspiracy  religious  \n",
      "0        0            0          0     0           0          0  \n",
      "1        0            0          0     1           0          0  \n",
      "2        0            0          0     0           0          0  \n",
      "3        0            0          0     0           0          0  \n",
      "4        0            0          0     0           0          0  \n"
     ]
    }
   ],
   "source": [
    "df = pd.DataFrame(y_preds, columns=tag_list)\n",
    "df_reset = df.reset_index()\n",
    "print(df_reset.head())"
   ]
  },
  {
   "cell_type": "code",
   "execution_count": 55,
   "metadata": {},
   "outputs": [],
   "source": [
    "data_rows = df_reset.to_dict(orient='records')"
   ]
  },
  {
   "cell_type": "code",
   "execution_count": 56,
   "metadata": {},
   "outputs": [],
   "source": [
    "import csv\n",
    "with open(\"submission.csv\", 'w', newline='') as csvfile:\n",
    "    fieldnames=[\"index\",\"ineffective\",\"unnecessary\",\"pharma\",\"rushed\",\"side-effect\",\"mandatory\",\"country\",\"ingredients\",\"political\",\"none\",\"conspiracy\",\"religious\"]\n",
    "    writer = csv.DictWriter(csvfile, fieldnames=fieldnames)\n",
    "    writer.writeheader()\n",
    "    writer.writerows(data_rows)"
   ]
  }
 ],
 "metadata": {
  "kernelspec": {
   "display_name": "vst",
   "language": "python",
   "name": "python3"
  },
  "language_info": {
   "codemirror_mode": {
    "name": "ipython",
    "version": 3
   },
   "file_extension": ".py",
   "mimetype": "text/x-python",
   "name": "python",
   "nbconvert_exporter": "python",
   "pygments_lexer": "ipython3",
   "version": "3.8.18"
  }
 },
 "nbformat": 4,
 "nbformat_minor": 2
}
